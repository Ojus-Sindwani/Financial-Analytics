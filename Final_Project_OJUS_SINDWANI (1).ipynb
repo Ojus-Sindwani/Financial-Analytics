{
 "nbformat": 4,
 "nbformat_minor": 0,
 "metadata": {
  "colab": {
   "provenance": [],
   "toc_visible": true
  },
  "kernelspec": {
   "name": "python3",
   "display_name": "Python 3"
  },
  "language_info": {
   "name": "python"
  }
 },
 "cells": [
  {
   "cell_type": "markdown",
   "source": [
    "# Final Project \n",
    "## Ojus Sindwani\n",
    "\n",
    "## Aim of the Project \n",
    "Undertake a financial/accounting analysis of a large set of U.S. companies during 5 key stock market crashes over the past few decades and explain determinants of stock returns.\n",
    "\n",
    "1. **1987 Stock Market Crash** (Sept 1987 – Dec 1987)\n",
    "2. **Dot Com Bubble and Crash** ( Jan 2000 – Oct 2002)\n",
    "3. **Great Recession & Financial Crisis** (Jan 2008 – Feb 2009) \n",
    "4. **The Covid Shock** (Feb 2020 – March 2020)\n",
    "5. **“The End of Easy Money”**(Jan 2022 – Sep 2022)\n",
    "\n"
   ],
   "metadata": {
    "id": "aG8OVpBOMZuE",
    "pycharm": {
     "name": "#%% md\n"
    }
   }
  },
  {
   "cell_type": "code",
   "source": [
    "#Importing the necessary libraries and packages \n",
    "import numpy as np\n",
    "import pandas as pd\n",
    "import matplotlib.pyplot as plt\n",
    "import statsmodels.api as sm"
   ],
   "metadata": {
    "id": "gBAx5_HeOA2O",
    "pycharm": {
     "name": "#%%\n"
    }
   },
   "execution_count": 95,
   "outputs": []
  },
  {
   "cell_type": "code",
   "source": [
    "#mounting the drive \n",
    "from google.colab import drive\n",
    "drive.mount('/gdrive')"
   ],
   "metadata": {
    "colab": {
     "base_uri": "https://localhost:8080/"
    },
    "id": "FWToGl4dOLxv",
    "outputId": "f764891f-3e75-4643-b6c7-e782a69d77e4",
    "pycharm": {
     "name": "#%%\n"
    }
   },
   "execution_count": 96,
   "outputs": [
    {
     "output_type": "stream",
     "name": "stdout",
     "text": [
      "Drive already mounted at /gdrive; to attempt to forcibly remount, call drive.mount(\"/gdrive\", force_remount=True).\n"
     ]
    }
   ]
  },
  {
   "cell_type": "markdown",
   "source": [
    "### Uploading the G Sector Files "
   ],
   "metadata": {
    "id": "_qpuq34nMeJG",
    "pycharm": {
     "name": "#%% md\n"
    }
   }
  },
  {
   "cell_type": "code",
   "execution_count": 97,
   "metadata": {
    "id": "7hNWvZ55MTeB",
    "pycharm": {
     "name": "#%%\n"
    }
   },
   "outputs": [],
   "source": [
    "gsector_1987 = pd.read_csv(r'/gdrive/MyDrive/Finance Final Project/GSECTOR-1986.csv')\n",
    "gsector_2001 = pd.read_csv(r'/gdrive/MyDrive/Finance Final Project/GSECTOR-2000.csv')\n",
    "gsector_2008 = pd.read_csv(r'/gdrive/MyDrive/Finance Final Project/GSECTOR-2007.csv')\n",
    "gsector_2020 = pd.read_csv(r'/gdrive/MyDrive/Finance Final Project/GSECTOR-2019.csv')\n",
    "gsector_2022 = pd.read_csv(r'/gdrive/MyDrive/Finance Final Project/GSECTOR-2021.csv')"
   ]
  },
  {
   "cell_type": "markdown",
   "source": [
    "An explanation of the G-Sectors is given as below:\n",
    "\n",
    "**`10.0`**\n",
    "Energy\n",
    "\n",
    "**`15.0`**\n",
    "Materials\n",
    "\n",
    "**`20.0`**\n",
    "Industrials\n",
    "\n",
    "**`25.0`**\n",
    "Consumer Discretionary\n",
    "\n",
    "**`30.0`**\n",
    "Consumer Staples\n",
    "\n",
    "**`35.0`**\n",
    "Health Care\n",
    "\n",
    "**`40.0`**\n",
    "Financials\n",
    "\n",
    "**`45.0`**\n",
    "Information Technology\n",
    "\n",
    "**`50.0`**\n",
    "Communication Services\n",
    "\n",
    "**`55.0`**\n",
    "Utilities\n",
    "\n",
    "**`60.0`**\n",
    "Real Estate\n"
   ],
   "metadata": {
    "id": "wYWZKGURPiKM",
    "pycharm": {
     "name": "#%% md\n"
    }
   }
  },
  {
   "cell_type": "code",
   "source": [
    "gsector_1987.info()"
   ],
   "metadata": {
    "colab": {
     "base_uri": "https://localhost:8080/"
    },
    "id": "RaMw7e32T-F-",
    "outputId": "18d2471f-836b-4e6e-9a17-20d323017f09",
    "pycharm": {
     "name": "#%%\n"
    }
   },
   "execution_count": 156,
   "outputs": [
    {
     "output_type": "stream",
     "name": "stdout",
     "text": [
      "<class 'pandas.core.frame.DataFrame'>\n",
      "RangeIndex: 7219 entries, 0 to 7218\n",
      "Data columns (total 4 columns):\n",
      " #   Column   Non-Null Count  Dtype  \n",
      "---  ------   --------------  -----  \n",
      " 0   gvkey    7219 non-null   int64  \n",
      " 1   fyear    7219 non-null   int64  \n",
      " 2   TICKER   7219 non-null   object \n",
      " 3   gsector  7210 non-null   float64\n",
      "dtypes: float64(1), int64(2), object(1)\n",
      "memory usage: 225.7+ KB\n"
     ]
    }
   ]
  },
  {
   "cell_type": "markdown",
   "source": [
    "### Uploading files containing financial ratios"
   ],
   "metadata": {
    "id": "ofHs_czpMjJ_",
    "pycharm": {
     "name": "#%% md\n"
    }
   }
  },
  {
   "cell_type": "markdown",
   "source": [
    "These files have been derived from assigment 3"
   ],
   "metadata": {
    "id": "TiIOdHSUMqta",
    "pycharm": {
     "name": "#%% md\n"
    }
   }
  },
  {
   "cell_type": "code",
   "source": [
    "ratios_1987 = pd.read_csv(r'/gdrive/MyDrive/Finance Final Project/financial_ratios_1987.csv')\n",
    "ratios_2001 = pd.read_csv(r'/gdrive/MyDrive/Finance Final Project/financial_ratios_2001.csv')\n",
    "ratios_2008 = pd.read_csv(r'/gdrive/MyDrive/Finance Final Project/financial_ratios_2008.csv')\n",
    "ratios_2020 = pd.read_csv(r'/gdrive/MyDrive/Finance Final Project/financial_ratios_2020.csv')\n",
    "ratios_2022 = pd.read_csv(r'/gdrive/MyDrive/Finance Final Project/financial_ratios_2022.csv')"
   ],
   "metadata": {
    "id": "R1Yci38WMp7N",
    "pycharm": {
     "name": "#%%\n"
    }
   },
   "execution_count": 99,
   "outputs": []
  },
  {
   "cell_type": "markdown",
   "source": [
    "These files contain various financial ratios for each of the stock market crashes and the average returns for those crashes. The following analysis has already been performed on these datasets in Assignment 3 for the purpose of calculating regression.\n",
    "\n",
    "\n",
    "1.   **`Merging Data`** Merging financial data with average returns for the months leading up to the 5 stock market crashes.\n",
    "2.   **`Treating Missing Values`** Running logistic regression for Current Assets, Current Liabilites, Total Liabilities, Long-Term Debt, Cost of Goods Sold, and Retained Earnings. \n",
    "3.   **`Calculating financial ratios`** Calculating financial ratios like Net Profit Margin, Gross Profit Margin, Liquidity ratio, Leverage, Debt/Total Assets, Asset Turnover Ratio, and ROE. \n",
    "4.   **`Regression`** Regressing various financial ratios on avergae returns and interpreting the results.\n",
    "\n",
    "\n"
   ],
   "metadata": {
    "id": "IxPnlqWIQnn7",
    "pycharm": {
     "name": "#%% md\n"
    }
   }
  },
  {
   "cell_type": "code",
   "source": [
    "ratios_1987.head()"
   ],
   "metadata": {
    "colab": {
     "base_uri": "https://localhost:8080/",
     "height": 421
    },
    "id": "syUNEky4UGMr",
    "outputId": "ee7eb350-ed48-4331-c2b0-0bf6eef5521a",
    "pycharm": {
     "name": "#%%\n"
    }
   },
   "execution_count": 157,
   "outputs": [
    {
     "output_type": "execute_result",
     "data": {
      "text/plain": [
       "   gvkey    datadate  fyear indfmt consol popsrc datafmt TICKER curcd  \\\n",
       "0   1003  1987-01-31   1986   INDL      C      D     STD   ANTQ   USD   \n",
       "1   1004  1987-05-31   1986   INDL      C      D     STD    AIR   USD   \n",
       "2   1011  1986-12-31   1986   INDL      C      D     STD   ACSE   USD   \n",
       "3   1016  1986-10-31   1986   INDL      C      D     STD   AECE   USD   \n",
       "4   1017  1987-02-28   1986   INDL      C      D     STD  AELNA   USD   \n",
       "\n",
       "       act  ...       RET  Net Profit Margin  Gross Profit Margin  \\\n",
       "0   13.090  ... -0.126467           0.021841             0.473422   \n",
       "1  168.950  ... -0.058069           0.051514             0.247015   \n",
       "2    2.385  ... -0.069427          -0.145579            -0.006851   \n",
       "3   18.715  ...  0.014061           0.015301             0.360856   \n",
       "4   52.080  ... -0.099851           0.030642             0.263189   \n",
       "\n",
       "   Total Debt/Equity  Return on Equity  Liquidity       ROA  \\\n",
       "0           0.955752          0.106329   3.875074  0.054367   \n",
       "1           0.750361          0.114370   2.078004  0.065341   \n",
       "2           0.620234         -0.169449   2.021186 -0.104583   \n",
       "3           1.231830          0.080062   2.071389  0.035873   \n",
       "4           0.624524          0.059649   2.012365  0.036718   \n",
       "\n",
       "   Debt/Total Assets  Asset Turnover Ratio    at_log  \n",
       "0           0.488688              2.489236  2.680062  \n",
       "1           0.428689              1.268411  5.459973  \n",
       "2           0.382805              0.718394  1.872110  \n",
       "3           0.551937              2.344443  3.314695  \n",
       "4           0.384435              1.198293  4.504764  \n",
       "\n",
       "[5 rows x 30 columns]"
      ],
      "text/html": [
       "\n",
       "  <div id=\"df-f606a1d9-997d-4042-8352-be74f5828193\">\n",
       "    <div class=\"colab-df-container\">\n",
       "      <div>\n",
       "<style scoped>\n",
       "    .dataframe tbody tr th:only-of-type {\n",
       "        vertical-align: middle;\n",
       "    }\n",
       "\n",
       "    .dataframe tbody tr th {\n",
       "        vertical-align: top;\n",
       "    }\n",
       "\n",
       "    .dataframe thead th {\n",
       "        text-align: right;\n",
       "    }\n",
       "</style>\n",
       "<table border=\"1\" class=\"dataframe\">\n",
       "  <thead>\n",
       "    <tr style=\"text-align: right;\">\n",
       "      <th></th>\n",
       "      <th>gvkey</th>\n",
       "      <th>datadate</th>\n",
       "      <th>fyear</th>\n",
       "      <th>indfmt</th>\n",
       "      <th>consol</th>\n",
       "      <th>popsrc</th>\n",
       "      <th>datafmt</th>\n",
       "      <th>TICKER</th>\n",
       "      <th>curcd</th>\n",
       "      <th>act</th>\n",
       "      <th>...</th>\n",
       "      <th>RET</th>\n",
       "      <th>Net Profit Margin</th>\n",
       "      <th>Gross Profit Margin</th>\n",
       "      <th>Total Debt/Equity</th>\n",
       "      <th>Return on Equity</th>\n",
       "      <th>Liquidity</th>\n",
       "      <th>ROA</th>\n",
       "      <th>Debt/Total Assets</th>\n",
       "      <th>Asset Turnover Ratio</th>\n",
       "      <th>at_log</th>\n",
       "    </tr>\n",
       "  </thead>\n",
       "  <tbody>\n",
       "    <tr>\n",
       "      <th>0</th>\n",
       "      <td>1003</td>\n",
       "      <td>1987-01-31</td>\n",
       "      <td>1986</td>\n",
       "      <td>INDL</td>\n",
       "      <td>C</td>\n",
       "      <td>D</td>\n",
       "      <td>STD</td>\n",
       "      <td>ANTQ</td>\n",
       "      <td>USD</td>\n",
       "      <td>13.090</td>\n",
       "      <td>...</td>\n",
       "      <td>-0.126467</td>\n",
       "      <td>0.021841</td>\n",
       "      <td>0.473422</td>\n",
       "      <td>0.955752</td>\n",
       "      <td>0.106329</td>\n",
       "      <td>3.875074</td>\n",
       "      <td>0.054367</td>\n",
       "      <td>0.488688</td>\n",
       "      <td>2.489236</td>\n",
       "      <td>2.680062</td>\n",
       "    </tr>\n",
       "    <tr>\n",
       "      <th>1</th>\n",
       "      <td>1004</td>\n",
       "      <td>1987-05-31</td>\n",
       "      <td>1986</td>\n",
       "      <td>INDL</td>\n",
       "      <td>C</td>\n",
       "      <td>D</td>\n",
       "      <td>STD</td>\n",
       "      <td>AIR</td>\n",
       "      <td>USD</td>\n",
       "      <td>168.950</td>\n",
       "      <td>...</td>\n",
       "      <td>-0.058069</td>\n",
       "      <td>0.051514</td>\n",
       "      <td>0.247015</td>\n",
       "      <td>0.750361</td>\n",
       "      <td>0.114370</td>\n",
       "      <td>2.078004</td>\n",
       "      <td>0.065341</td>\n",
       "      <td>0.428689</td>\n",
       "      <td>1.268411</td>\n",
       "      <td>5.459973</td>\n",
       "    </tr>\n",
       "    <tr>\n",
       "      <th>2</th>\n",
       "      <td>1011</td>\n",
       "      <td>1986-12-31</td>\n",
       "      <td>1986</td>\n",
       "      <td>INDL</td>\n",
       "      <td>C</td>\n",
       "      <td>D</td>\n",
       "      <td>STD</td>\n",
       "      <td>ACSE</td>\n",
       "      <td>USD</td>\n",
       "      <td>2.385</td>\n",
       "      <td>...</td>\n",
       "      <td>-0.069427</td>\n",
       "      <td>-0.145579</td>\n",
       "      <td>-0.006851</td>\n",
       "      <td>0.620234</td>\n",
       "      <td>-0.169449</td>\n",
       "      <td>2.021186</td>\n",
       "      <td>-0.104583</td>\n",
       "      <td>0.382805</td>\n",
       "      <td>0.718394</td>\n",
       "      <td>1.872110</td>\n",
       "    </tr>\n",
       "    <tr>\n",
       "      <th>3</th>\n",
       "      <td>1016</td>\n",
       "      <td>1986-10-31</td>\n",
       "      <td>1986</td>\n",
       "      <td>INDL</td>\n",
       "      <td>C</td>\n",
       "      <td>D</td>\n",
       "      <td>STD</td>\n",
       "      <td>AECE</td>\n",
       "      <td>USD</td>\n",
       "      <td>18.715</td>\n",
       "      <td>...</td>\n",
       "      <td>0.014061</td>\n",
       "      <td>0.015301</td>\n",
       "      <td>0.360856</td>\n",
       "      <td>1.231830</td>\n",
       "      <td>0.080062</td>\n",
       "      <td>2.071389</td>\n",
       "      <td>0.035873</td>\n",
       "      <td>0.551937</td>\n",
       "      <td>2.344443</td>\n",
       "      <td>3.314695</td>\n",
       "    </tr>\n",
       "    <tr>\n",
       "      <th>4</th>\n",
       "      <td>1017</td>\n",
       "      <td>1987-02-28</td>\n",
       "      <td>1986</td>\n",
       "      <td>INDL</td>\n",
       "      <td>C</td>\n",
       "      <td>D</td>\n",
       "      <td>STD</td>\n",
       "      <td>AELNA</td>\n",
       "      <td>USD</td>\n",
       "      <td>52.080</td>\n",
       "      <td>...</td>\n",
       "      <td>-0.099851</td>\n",
       "      <td>0.030642</td>\n",
       "      <td>0.263189</td>\n",
       "      <td>0.624524</td>\n",
       "      <td>0.059649</td>\n",
       "      <td>2.012365</td>\n",
       "      <td>0.036718</td>\n",
       "      <td>0.384435</td>\n",
       "      <td>1.198293</td>\n",
       "      <td>4.504764</td>\n",
       "    </tr>\n",
       "  </tbody>\n",
       "</table>\n",
       "<p>5 rows × 30 columns</p>\n",
       "</div>\n",
       "      <button class=\"colab-df-convert\" onclick=\"convertToInteractive('df-f606a1d9-997d-4042-8352-be74f5828193')\"\n",
       "              title=\"Convert this dataframe to an interactive table.\"\n",
       "              style=\"display:none;\">\n",
       "        \n",
       "  <svg xmlns=\"http://www.w3.org/2000/svg\" height=\"24px\"viewBox=\"0 0 24 24\"\n",
       "       width=\"24px\">\n",
       "    <path d=\"M0 0h24v24H0V0z\" fill=\"none\"/>\n",
       "    <path d=\"M18.56 5.44l.94 2.06.94-2.06 2.06-.94-2.06-.94-.94-2.06-.94 2.06-2.06.94zm-11 1L8.5 8.5l.94-2.06 2.06-.94-2.06-.94L8.5 2.5l-.94 2.06-2.06.94zm10 10l.94 2.06.94-2.06 2.06-.94-2.06-.94-.94-2.06-.94 2.06-2.06.94z\"/><path d=\"M17.41 7.96l-1.37-1.37c-.4-.4-.92-.59-1.43-.59-.52 0-1.04.2-1.43.59L10.3 9.45l-7.72 7.72c-.78.78-.78 2.05 0 2.83L4 21.41c.39.39.9.59 1.41.59.51 0 1.02-.2 1.41-.59l7.78-7.78 2.81-2.81c.8-.78.8-2.07 0-2.86zM5.41 20L4 18.59l7.72-7.72 1.47 1.35L5.41 20z\"/>\n",
       "  </svg>\n",
       "      </button>\n",
       "      \n",
       "  <style>\n",
       "    .colab-df-container {\n",
       "      display:flex;\n",
       "      flex-wrap:wrap;\n",
       "      gap: 12px;\n",
       "    }\n",
       "\n",
       "    .colab-df-convert {\n",
       "      background-color: #E8F0FE;\n",
       "      border: none;\n",
       "      border-radius: 50%;\n",
       "      cursor: pointer;\n",
       "      display: none;\n",
       "      fill: #1967D2;\n",
       "      height: 32px;\n",
       "      padding: 0 0 0 0;\n",
       "      width: 32px;\n",
       "    }\n",
       "\n",
       "    .colab-df-convert:hover {\n",
       "      background-color: #E2EBFA;\n",
       "      box-shadow: 0px 1px 2px rgba(60, 64, 67, 0.3), 0px 1px 3px 1px rgba(60, 64, 67, 0.15);\n",
       "      fill: #174EA6;\n",
       "    }\n",
       "\n",
       "    [theme=dark] .colab-df-convert {\n",
       "      background-color: #3B4455;\n",
       "      fill: #D2E3FC;\n",
       "    }\n",
       "\n",
       "    [theme=dark] .colab-df-convert:hover {\n",
       "      background-color: #434B5C;\n",
       "      box-shadow: 0px 1px 3px 1px rgba(0, 0, 0, 0.15);\n",
       "      filter: drop-shadow(0px 1px 2px rgba(0, 0, 0, 0.3));\n",
       "      fill: #FFFFFF;\n",
       "    }\n",
       "  </style>\n",
       "\n",
       "      <script>\n",
       "        const buttonEl =\n",
       "          document.querySelector('#df-f606a1d9-997d-4042-8352-be74f5828193 button.colab-df-convert');\n",
       "        buttonEl.style.display =\n",
       "          google.colab.kernel.accessAllowed ? 'block' : 'none';\n",
       "\n",
       "        async function convertToInteractive(key) {\n",
       "          const element = document.querySelector('#df-f606a1d9-997d-4042-8352-be74f5828193');\n",
       "          const dataTable =\n",
       "            await google.colab.kernel.invokeFunction('convertToInteractive',\n",
       "                                                     [key], {});\n",
       "          if (!dataTable) return;\n",
       "\n",
       "          const docLinkHtml = 'Like what you see? Visit the ' +\n",
       "            '<a target=\"_blank\" href=https://colab.research.google.com/notebooks/data_table.ipynb>data table notebook</a>'\n",
       "            + ' to learn more about interactive tables.';\n",
       "          element.innerHTML = '';\n",
       "          dataTable['output_type'] = 'display_data';\n",
       "          await google.colab.output.renderOutput(dataTable, element);\n",
       "          const docLink = document.createElement('div');\n",
       "          docLink.innerHTML = docLinkHtml;\n",
       "          element.appendChild(docLink);\n",
       "        }\n",
       "      </script>\n",
       "    </div>\n",
       "  </div>\n",
       "  "
      ]
     },
     "metadata": {},
     "execution_count": 157
    }
   ]
  },
  {
   "cell_type": "markdown",
   "source": [
    "### Uploading files containing the FF output for 5 years "
   ],
   "metadata": {
    "id": "xov8-JlfMvv-",
    "pycharm": {
     "name": "#%% md\n"
    }
   }
  },
  {
   "cell_type": "markdown",
   "source": [
    "These files have been derived from assignment 2"
   ],
   "metadata": {
    "id": "11SMUHrSM1VE",
    "pycharm": {
     "name": "#%% md\n"
    }
   }
  },
  {
   "cell_type": "code",
   "source": [
    "ff_1987 = pd.read_csv(r'/gdrive/MyDrive/Finance Final Project/FF-Output-1983-1987.csv')\n",
    "ff_2001 = pd.read_csv(r'/gdrive/MyDrive/Finance Final Project/FF-Output-1997-2001.csv')\n",
    "ff_2008 = pd.read_csv(r'/gdrive/MyDrive/Finance Final Project/FF-Output-2004-2008.csv')\n",
    "ff_2020 = pd.read_csv(r'/gdrive/MyDrive/Finance Final Project/FF-Output-2016-2020.csv')\n",
    "ff_2022 = pd.read_csv(r'/gdrive/MyDrive/Finance Final Project/FF-Output-2018-2022.csv')"
   ],
   "metadata": {
    "id": "8-FoIWdwMzGa",
    "pycharm": {
     "name": "#%%\n"
    }
   },
   "execution_count": 100,
   "outputs": []
  },
  {
   "cell_type": "code",
   "source": [
    "ff_1987.head()"
   ],
   "metadata": {
    "colab": {
     "base_uri": "https://localhost:8080/",
     "height": 206
    },
    "id": "ymr83BY5UOUS",
    "outputId": "bbb80d59-c9fa-4e4c-9275-0cd8b2f0dc22",
    "pycharm": {
     "name": "#%%\n"
    }
   },
   "execution_count": 158,
   "outputs": [
    {
     "output_type": "execute_result",
     "data": {
      "text/plain": [
       "   Unnamed: 0 TICKER     const     mktrf       smb       hml\n",
       "0           1    CNK  0.008628  0.881037  0.581720 -0.000531\n",
       "1           2   GENE  0.038865  1.157391  1.382452 -1.254665\n",
       "2           3   GAMA -0.005431  0.772968 -0.073854  0.189572\n",
       "3           4  TCOMA  0.029071  0.926688  0.038847 -1.166874\n",
       "4           5    WOC -0.011008  0.652339  0.582038  0.305336"
      ],
      "text/html": [
       "\n",
       "  <div id=\"df-d18590bf-2c38-43b7-a006-3b6865f5196b\">\n",
       "    <div class=\"colab-df-container\">\n",
       "      <div>\n",
       "<style scoped>\n",
       "    .dataframe tbody tr th:only-of-type {\n",
       "        vertical-align: middle;\n",
       "    }\n",
       "\n",
       "    .dataframe tbody tr th {\n",
       "        vertical-align: top;\n",
       "    }\n",
       "\n",
       "    .dataframe thead th {\n",
       "        text-align: right;\n",
       "    }\n",
       "</style>\n",
       "<table border=\"1\" class=\"dataframe\">\n",
       "  <thead>\n",
       "    <tr style=\"text-align: right;\">\n",
       "      <th></th>\n",
       "      <th>Unnamed: 0</th>\n",
       "      <th>TICKER</th>\n",
       "      <th>const</th>\n",
       "      <th>mktrf</th>\n",
       "      <th>smb</th>\n",
       "      <th>hml</th>\n",
       "    </tr>\n",
       "  </thead>\n",
       "  <tbody>\n",
       "    <tr>\n",
       "      <th>0</th>\n",
       "      <td>1</td>\n",
       "      <td>CNK</td>\n",
       "      <td>0.008628</td>\n",
       "      <td>0.881037</td>\n",
       "      <td>0.581720</td>\n",
       "      <td>-0.000531</td>\n",
       "    </tr>\n",
       "    <tr>\n",
       "      <th>1</th>\n",
       "      <td>2</td>\n",
       "      <td>GENE</td>\n",
       "      <td>0.038865</td>\n",
       "      <td>1.157391</td>\n",
       "      <td>1.382452</td>\n",
       "      <td>-1.254665</td>\n",
       "    </tr>\n",
       "    <tr>\n",
       "      <th>2</th>\n",
       "      <td>3</td>\n",
       "      <td>GAMA</td>\n",
       "      <td>-0.005431</td>\n",
       "      <td>0.772968</td>\n",
       "      <td>-0.073854</td>\n",
       "      <td>0.189572</td>\n",
       "    </tr>\n",
       "    <tr>\n",
       "      <th>3</th>\n",
       "      <td>4</td>\n",
       "      <td>TCOMA</td>\n",
       "      <td>0.029071</td>\n",
       "      <td>0.926688</td>\n",
       "      <td>0.038847</td>\n",
       "      <td>-1.166874</td>\n",
       "    </tr>\n",
       "    <tr>\n",
       "      <th>4</th>\n",
       "      <td>5</td>\n",
       "      <td>WOC</td>\n",
       "      <td>-0.011008</td>\n",
       "      <td>0.652339</td>\n",
       "      <td>0.582038</td>\n",
       "      <td>0.305336</td>\n",
       "    </tr>\n",
       "  </tbody>\n",
       "</table>\n",
       "</div>\n",
       "      <button class=\"colab-df-convert\" onclick=\"convertToInteractive('df-d18590bf-2c38-43b7-a006-3b6865f5196b')\"\n",
       "              title=\"Convert this dataframe to an interactive table.\"\n",
       "              style=\"display:none;\">\n",
       "        \n",
       "  <svg xmlns=\"http://www.w3.org/2000/svg\" height=\"24px\"viewBox=\"0 0 24 24\"\n",
       "       width=\"24px\">\n",
       "    <path d=\"M0 0h24v24H0V0z\" fill=\"none\"/>\n",
       "    <path d=\"M18.56 5.44l.94 2.06.94-2.06 2.06-.94-2.06-.94-.94-2.06-.94 2.06-2.06.94zm-11 1L8.5 8.5l.94-2.06 2.06-.94-2.06-.94L8.5 2.5l-.94 2.06-2.06.94zm10 10l.94 2.06.94-2.06 2.06-.94-2.06-.94-.94-2.06-.94 2.06-2.06.94z\"/><path d=\"M17.41 7.96l-1.37-1.37c-.4-.4-.92-.59-1.43-.59-.52 0-1.04.2-1.43.59L10.3 9.45l-7.72 7.72c-.78.78-.78 2.05 0 2.83L4 21.41c.39.39.9.59 1.41.59.51 0 1.02-.2 1.41-.59l7.78-7.78 2.81-2.81c.8-.78.8-2.07 0-2.86zM5.41 20L4 18.59l7.72-7.72 1.47 1.35L5.41 20z\"/>\n",
       "  </svg>\n",
       "      </button>\n",
       "      \n",
       "  <style>\n",
       "    .colab-df-container {\n",
       "      display:flex;\n",
       "      flex-wrap:wrap;\n",
       "      gap: 12px;\n",
       "    }\n",
       "\n",
       "    .colab-df-convert {\n",
       "      background-color: #E8F0FE;\n",
       "      border: none;\n",
       "      border-radius: 50%;\n",
       "      cursor: pointer;\n",
       "      display: none;\n",
       "      fill: #1967D2;\n",
       "      height: 32px;\n",
       "      padding: 0 0 0 0;\n",
       "      width: 32px;\n",
       "    }\n",
       "\n",
       "    .colab-df-convert:hover {\n",
       "      background-color: #E2EBFA;\n",
       "      box-shadow: 0px 1px 2px rgba(60, 64, 67, 0.3), 0px 1px 3px 1px rgba(60, 64, 67, 0.15);\n",
       "      fill: #174EA6;\n",
       "    }\n",
       "\n",
       "    [theme=dark] .colab-df-convert {\n",
       "      background-color: #3B4455;\n",
       "      fill: #D2E3FC;\n",
       "    }\n",
       "\n",
       "    [theme=dark] .colab-df-convert:hover {\n",
       "      background-color: #434B5C;\n",
       "      box-shadow: 0px 1px 3px 1px rgba(0, 0, 0, 0.15);\n",
       "      filter: drop-shadow(0px 1px 2px rgba(0, 0, 0, 0.3));\n",
       "      fill: #FFFFFF;\n",
       "    }\n",
       "  </style>\n",
       "\n",
       "      <script>\n",
       "        const buttonEl =\n",
       "          document.querySelector('#df-d18590bf-2c38-43b7-a006-3b6865f5196b button.colab-df-convert');\n",
       "        buttonEl.style.display =\n",
       "          google.colab.kernel.accessAllowed ? 'block' : 'none';\n",
       "\n",
       "        async function convertToInteractive(key) {\n",
       "          const element = document.querySelector('#df-d18590bf-2c38-43b7-a006-3b6865f5196b');\n",
       "          const dataTable =\n",
       "            await google.colab.kernel.invokeFunction('convertToInteractive',\n",
       "                                                     [key], {});\n",
       "          if (!dataTable) return;\n",
       "\n",
       "          const docLinkHtml = 'Like what you see? Visit the ' +\n",
       "            '<a target=\"_blank\" href=https://colab.research.google.com/notebooks/data_table.ipynb>data table notebook</a>'\n",
       "            + ' to learn more about interactive tables.';\n",
       "          element.innerHTML = '';\n",
       "          dataTable['output_type'] = 'display_data';\n",
       "          await google.colab.output.renderOutput(dataTable, element);\n",
       "          const docLink = document.createElement('div');\n",
       "          docLink.innerHTML = docLinkHtml;\n",
       "          element.appendChild(docLink);\n",
       "        }\n",
       "      </script>\n",
       "    </div>\n",
       "  </div>\n",
       "  "
      ]
     },
     "metadata": {},
     "execution_count": 158
    }
   ]
  },
  {
   "cell_type": "markdown",
   "source": [
    "# 1987 Stock Market Crash "
   ],
   "metadata": {
    "id": "z8n9MXFePiwE",
    "pycharm": {
     "name": "#%% md\n"
    }
   }
  },
  {
   "cell_type": "markdown",
   "source": [
    "The stock market crash of 1987, also known as Black Monday, occurred on October 19th, 1987. The crash was a sudden and severe drop in stock prices, with the Dow Jones Industrial Average falling by over 22% in one day. The crash was caused by a combination of factors, including overvalued stocks, a decline in international markets, and computerized trading programs. "
   ],
   "metadata": {
    "id": "9-uSEkKLmPK8",
    "pycharm": {
     "name": "#%% md\n"
    }
   }
  },
  {
   "cell_type": "markdown",
   "source": [
    "## Merging the three files together "
   ],
   "metadata": {
    "id": "cVw_7m9sPoVQ",
    "pycharm": {
     "name": "#%% md\n"
    }
   }
  },
  {
   "cell_type": "code",
   "source": [
    "# Renaming tic to TICKER in the gsector file\n",
    "gsector_1987 = gsector_1987.rename(columns={'tic': 'TICKER'})"
   ],
   "metadata": {
    "id": "9xbGce5tPhaq",
    "pycharm": {
     "name": "#%%\n"
    }
   },
   "execution_count": 101,
   "outputs": []
  },
  {
   "cell_type": "code",
   "source": [
    "# Merge the DataFrames based on the 'TICKER' column\n",
    "merged_df = pd.merge(gsector_1987, ratios_1987, on='TICKER')\n",
    "merged_df = pd.merge(merged_df, ff_1987, on='TICKER')"
   ],
   "metadata": {
    "id": "ikqs7MBDP-3C",
    "pycharm": {
     "name": "#%%\n"
    }
   },
   "execution_count": 102,
   "outputs": []
  },
  {
   "cell_type": "code",
   "source": [
    "merged_df.info()"
   ],
   "metadata": {
    "colab": {
     "base_uri": "https://localhost:8080/"
    },
    "id": "p7jnHcznQCeu",
    "outputId": "4d9607e1-8887-4007-b990-2f23494871cf",
    "pycharm": {
     "name": "#%%\n"
    }
   },
   "execution_count": 103,
   "outputs": [
    {
     "output_type": "stream",
     "name": "stdout",
     "text": [
      "<class 'pandas.core.frame.DataFrame'>\n",
      "Int64Index: 880 entries, 0 to 879\n",
      "Data columns (total 38 columns):\n",
      " #   Column                Non-Null Count  Dtype  \n",
      "---  ------                --------------  -----  \n",
      " 0   gvkey_x               880 non-null    int64  \n",
      " 1   fyear_x               880 non-null    int64  \n",
      " 2   TICKER                880 non-null    object \n",
      " 3   gsector               880 non-null    float64\n",
      " 4   gvkey_y               880 non-null    int64  \n",
      " 5   datadate              880 non-null    object \n",
      " 6   fyear_y               880 non-null    int64  \n",
      " 7   indfmt                880 non-null    object \n",
      " 8   consol                880 non-null    object \n",
      " 9   popsrc                880 non-null    object \n",
      " 10  datafmt               880 non-null    object \n",
      " 11  curcd                 880 non-null    object \n",
      " 12  act                   880 non-null    float64\n",
      " 13  at                    880 non-null    float64\n",
      " 14  che                   880 non-null    float64\n",
      " 15  cogs                  880 non-null    float64\n",
      " 16  dltt                  880 non-null    float64\n",
      " 17  lct                   880 non-null    float64\n",
      " 18  lt                    880 non-null    float64\n",
      " 19  ni                    880 non-null    float64\n",
      " 20  re                    880 non-null    float64\n",
      " 21  sale                  880 non-null    float64\n",
      " 22  costat                880 non-null    object \n",
      " 23  RET                   880 non-null    float64\n",
      " 24  Net Profit Margin     880 non-null    float64\n",
      " 25  Gross Profit Margin   880 non-null    float64\n",
      " 26  Total Debt/Equity     880 non-null    float64\n",
      " 27  Return on Equity      880 non-null    float64\n",
      " 28  Liquidity             880 non-null    float64\n",
      " 29  ROA                   880 non-null    float64\n",
      " 30  Debt/Total Assets     880 non-null    float64\n",
      " 31  Asset Turnover Ratio  880 non-null    float64\n",
      " 32  at_log                880 non-null    float64\n",
      " 33  Unnamed: 0            880 non-null    int64  \n",
      " 34  const                 880 non-null    float64\n",
      " 35  mktrf                 880 non-null    float64\n",
      " 36  smb                   880 non-null    float64\n",
      " 37  hml                   880 non-null    float64\n",
      "dtypes: float64(25), int64(5), object(8)\n",
      "memory usage: 268.1+ KB\n"
     ]
    }
   ]
  },
  {
   "cell_type": "code",
   "source": [
    "# Getting a sense of industry indicators \n",
    "sector_counts = merged_df.groupby('gsector').size()\n",
    "sector_counts"
   ],
   "metadata": {
    "colab": {
     "base_uri": "https://localhost:8080/"
    },
    "id": "SutLNxxHnnss",
    "outputId": "137be705-041d-4a2c-b708-06012cbe2162",
    "pycharm": {
     "name": "#%%\n"
    }
   },
   "execution_count": 104,
   "outputs": [
    {
     "output_type": "execute_result",
     "data": {
      "text/plain": [
       "gsector\n",
       "10.0     52\n",
       "15.0     66\n",
       "20.0    211\n",
       "25.0    147\n",
       "30.0     60\n",
       "35.0     67\n",
       "40.0     77\n",
       "45.0    117\n",
       "50.0     14\n",
       "55.0     56\n",
       "60.0     13\n",
       "dtype: int64"
      ]
     },
     "metadata": {},
     "execution_count": 104
    }
   ]
  },
  {
   "cell_type": "markdown",
   "source": [
    "## Run OLS regression with the following three main categories \n",
    "\n",
    "\n",
    "1.   **Risk Exposures:** This included systematic risk (market risk), SML (Small Minus Big), which is the size risk, and HML (High minus Low), which is the Value vs Growth risk. \n",
    "\n",
    "2.   **Financial Ratios:** This includes various financial ratios, including but not limited to Liquidity, Leverage, Asset Turnover Ratio, Net and Gross Profit Margin, ROE and ROA. \n",
    "\n",
    "3.   **Industry Indicators:** This indicates which industries had the highest amount of affect on stock returns. \n",
    "\n"
   ],
   "metadata": {
    "id": "V4HEGNb6mcsD",
    "pycharm": {
     "name": "#%% md\n"
    }
   }
  },
  {
   "cell_type": "markdown",
   "source": [
    "### 1987- Regression 1"
   ],
   "metadata": {
    "id": "m0QuGDg8Bz8l",
    "pycharm": {
     "name": "#%% md\n"
    }
   }
  },
  {
   "cell_type": "markdown",
   "source": [
    "Regression using all 3 Categories "
   ],
   "metadata": {
    "id": "V14kYIlbq_4z",
    "pycharm": {
     "name": "#%% md\n"
    }
   }
  },
  {
   "cell_type": "code",
   "source": [
    "# General regression code:\n",
    "X1 = merged_df[['Gross Profit Margin', 'Debt/Total Assets', 'Asset Turnover Ratio', 'at_log']]\n",
    "X2 = pd.get_dummies(merged_df['gsector'], prefix='sector')\n",
    "X3 = merged_df[['mktrf', 'smb', 'hml']]\n",
    "\n",
    "X = pd.concat([X1, X2, X3], axis=1)\n",
    "\n",
    "y = merged_df['RET']\n",
    "\n",
    "# Use statsmodels\n",
    "X = sm.add_constant(X) # adding a constant\n",
    "model = sm.OLS(y, X).fit()\n",
    "\n",
    "# list regression output\n",
    "print(model.summary())"
   ],
   "metadata": {
    "colab": {
     "base_uri": "https://localhost:8080/"
    },
    "id": "uS-H8XpBqgAZ",
    "outputId": "9e1dba0d-4e9a-4c28-b602-b463bfa7feb3",
    "pycharm": {
     "name": "#%%\n"
    }
   },
   "execution_count": 105,
   "outputs": [
    {
     "output_type": "stream",
     "name": "stdout",
     "text": [
      "                            OLS Regression Results                            \n",
      "==============================================================================\n",
      "Dep. Variable:                    RET   R-squared:                       0.242\n",
      "Model:                            OLS   Adj. R-squared:                  0.227\n",
      "Method:                 Least Squares   F-statistic:                     16.20\n",
      "Date:                Sat, 06 May 2023   Prob (F-statistic):           1.39e-41\n",
      "Time:                        12:27:41   Log-Likelihood:                 1397.9\n",
      "No. Observations:                 880   AIC:                            -2760.\n",
      "Df Residuals:                     862   BIC:                            -2674.\n",
      "Df Model:                          17                                         \n",
      "Covariance Type:            nonrobust                                         \n",
      "========================================================================================\n",
      "                           coef    std err          t      P>|t|      [0.025      0.975]\n",
      "----------------------------------------------------------------------------------------\n",
      "const                   -0.0087      0.008     -1.151      0.250      -0.024       0.006\n",
      "Gross Profit Margin      0.0145      0.006      2.488      0.013       0.003       0.026\n",
      "Debt/Total Assets       -0.0326      0.009     -3.500      0.000      -0.051      -0.014\n",
      "Asset Turnover Ratio     0.0066      0.003      2.425      0.016       0.001       0.012\n",
      "at_log                   0.0019      0.001      1.858      0.064      -0.000       0.004\n",
      "sector_10.0             -0.0190      0.007     -2.734      0.006      -0.033      -0.005\n",
      "sector_15.0              0.0180      0.006      2.921      0.004       0.006       0.030\n",
      "sector_20.0              0.0046      0.004      1.138      0.255      -0.003       0.013\n",
      "sector_25.0             -0.0103      0.005     -2.176      0.030      -0.020      -0.001\n",
      "sector_30.0             -0.0032      0.007     -0.438      0.661      -0.018       0.011\n",
      "sector_35.0             -0.0048      0.006     -0.783      0.434      -0.017       0.007\n",
      "sector_40.0             -0.0019      0.007     -0.288      0.773      -0.015       0.011\n",
      "sector_45.0             -0.0142      0.005     -2.610      0.009      -0.025      -0.004\n",
      "sector_50.0             -0.0012      0.012     -0.096      0.924      -0.026       0.023\n",
      "sector_55.0              0.0046      0.007      0.646      0.518      -0.009       0.019\n",
      "sector_60.0              0.0186      0.013      1.443      0.149      -0.007       0.044\n",
      "mktrf                   -0.0552      0.005    -11.793      0.000      -0.064      -0.046\n",
      "smb                     -0.0088      0.002     -3.987      0.000      -0.013      -0.004\n",
      "hml                      0.0031      0.003      1.203      0.229      -0.002       0.008\n",
      "==============================================================================\n",
      "Omnibus:                       39.819   Durbin-Watson:                   1.871\n",
      "Prob(Omnibus):                  0.000   Jarque-Bera (JB):              120.916\n",
      "Skew:                          -0.040   Prob(JB):                     5.54e-27\n",
      "Kurtosis:                       4.814   Cond. No.                     8.47e+16\n",
      "==============================================================================\n",
      "\n",
      "Notes:\n",
      "[1] Standard Errors assume that the covariance matrix of the errors is correctly specified.\n",
      "[2] The smallest eigenvalue is 4.49e-30. This might indicate that there are\n",
      "strong multicollinearity problems or that the design matrix is singular.\n"
     ]
    }
   ]
  },
  {
   "cell_type": "markdown",
   "source": [
    "The regression model shows the relationship between the dependent variable, RET(stock returns), and various independent variables. The R-squared value suggests that 24.2% of the variance in the dependent variable is explained by the model, with an adjusted R-Squared. The coefficients of the independent variables show their impact on the dependent variable, with Gross Profit Margin, Debt/Total Assets, Asset Turnover Ratio, sector_10.0, sector_15.0, sector_25.0, sector_45.0, mktrf, and smb having statistically significant impacts. The model has some potential issues with multicollinearity and singularity, therefore, further regressions are performed to reduce such issues."
   ],
   "metadata": {
    "id": "949fWOLvnwxi",
    "pycharm": {
     "name": "#%% md\n"
    }
   }
  },
  {
   "cell_type": "markdown",
   "source": [
    "### 1987- Regression 2"
   ],
   "metadata": {
    "id": "OtagwpCsBt6z",
    "pycharm": {
     "name": "#%% md\n"
    }
   }
  },
  {
   "cell_type": "markdown",
   "source": [
    "Regression using only financial ratios and industry indicators "
   ],
   "metadata": {
    "id": "AM9kLfUHrEFk",
    "pycharm": {
     "name": "#%% md\n"
    }
   }
  },
  {
   "cell_type": "code",
   "source": [
    "# General regression code:\n",
    "X1 = merged_df[['Gross Profit Margin', 'Debt/Total Assets', 'Asset Turnover Ratio', 'at_log']]\n",
    "X2 = pd.get_dummies(merged_df['gsector'], prefix='sector')\n",
    "\n",
    "X = pd.concat([X1, X2], axis=1)\n",
    "\n",
    "y = merged_df['RET']\n",
    "\n",
    "# Use statsmodels\n",
    "X = sm.add_constant(X) # adding a constant\n",
    "model = sm.OLS(y, X).fit()\n",
    "\n",
    "# list regression output\n",
    "print(model.summary())"
   ],
   "metadata": {
    "colab": {
     "base_uri": "https://localhost:8080/"
    },
    "id": "6fkd1MFfU41f",
    "outputId": "98151ff5-f8bf-418f-e505-4734b28d4e2c",
    "pycharm": {
     "name": "#%%\n"
    }
   },
   "execution_count": 106,
   "outputs": [
    {
     "output_type": "stream",
     "name": "stdout",
     "text": [
      "                            OLS Regression Results                            \n",
      "==============================================================================\n",
      "Dep. Variable:                    RET   R-squared:                       0.109\n",
      "Model:                            OLS   Adj. R-squared:                  0.095\n",
      "Method:                 Least Squares   F-statistic:                     7.574\n",
      "Date:                Sat, 06 May 2023   Prob (F-statistic):           3.46e-15\n",
      "Time:                        12:27:41   Log-Likelihood:                 1326.7\n",
      "No. Observations:                 880   AIC:                            -2623.\n",
      "Df Residuals:                     865   BIC:                            -2552.\n",
      "Df Model:                          14                                         \n",
      "Covariance Type:            nonrobust                                         \n",
      "========================================================================================\n",
      "                           coef    std err          t      P>|t|      [0.025      0.975]\n",
      "----------------------------------------------------------------------------------------\n",
      "const                   -0.0507      0.007     -7.376      0.000      -0.064      -0.037\n",
      "Gross Profit Margin      0.0193      0.006      3.086      0.002       0.007       0.032\n",
      "Debt/Total Assets       -0.0501      0.010     -5.156      0.000      -0.069      -0.031\n",
      "Asset Turnover Ratio     0.0070      0.003      2.406      0.016       0.001       0.013\n",
      "at_log                   0.0013      0.001      1.436      0.151      -0.000       0.003\n",
      "sector_10.0             -0.0306      0.007     -4.205      0.000      -0.045      -0.016\n",
      "sector_15.0              0.0101      0.007      1.536      0.125      -0.003       0.023\n",
      "sector_20.0             -0.0050      0.004     -1.172      0.242      -0.013       0.003\n",
      "sector_25.0             -0.0218      0.005     -4.394      0.000      -0.032      -0.012\n",
      "sector_30.0             -0.0012      0.008     -0.152      0.879      -0.017       0.014\n",
      "sector_35.0             -0.0139      0.007     -2.122      0.034      -0.027      -0.001\n",
      "sector_40.0             -0.0034      0.007     -0.478      0.632      -0.017       0.010\n",
      "sector_45.0             -0.0298      0.005     -5.659      0.000      -0.040      -0.019\n",
      "sector_50.0             -0.0053      0.013     -0.396      0.692      -0.032       0.021\n",
      "sector_55.0              0.0281      0.007      3.885      0.000       0.014       0.042\n",
      "sector_60.0              0.0220      0.014      1.575      0.116      -0.005       0.049\n",
      "==============================================================================\n",
      "Omnibus:                       35.762   Durbin-Watson:                   1.952\n",
      "Prob(Omnibus):                  0.000   Jarque-Bera (JB):               90.834\n",
      "Skew:                          -0.140   Prob(JB):                     1.89e-20\n",
      "Kurtosis:                       4.549   Cond. No.                     7.20e+16\n",
      "==============================================================================\n",
      "\n",
      "Notes:\n",
      "[1] Standard Errors assume that the covariance matrix of the errors is correctly specified.\n",
      "[2] The smallest eigenvalue is 6.03e-30. This might indicate that there are\n",
      "strong multicollinearity problems or that the design matrix is singular.\n"
     ]
    }
   ]
  },
  {
   "cell_type": "markdown",
   "source": [
    "The OLS regression model suggests that Gross Profit Margin, Debt/Total Assets, Asset Turnover Ratio, and some industry sectors have significant effects on the stock returns of the companies in the sample. However, the overall explanatory power of the model is weak, as indicated by the low R-squared value of 10.9%, and an adjusted R-Squared value 9.5%. Additionally, there may be issues of multicollinearity, and the design matrix may be singular, which could affect the reliability of the coefficient estimates. As risk exposures were excluded, the R2 dropped significantly indicating that 13.3% variance in the model is explained by risk exposures."
   ],
   "metadata": {
    "id": "yxFL4WtLpt1d",
    "pycharm": {
     "name": "#%% md\n"
    }
   }
  },
  {
   "cell_type": "markdown",
   "source": [
    "### 1987- Regression 3"
   ],
   "metadata": {
    "id": "vpgYn92zBqD_",
    "pycharm": {
     "name": "#%% md\n"
    }
   }
  },
  {
   "cell_type": "markdown",
   "source": [
    "Regression using only financial ratios and risk exposures "
   ],
   "metadata": {
    "id": "_8b5haSwrKCT",
    "pycharm": {
     "name": "#%% md\n"
    }
   }
  },
  {
   "cell_type": "code",
   "source": [
    "# General regression code:\n",
    "X1 = merged_df[['Gross Profit Margin', 'Debt/Total Assets', 'Asset Turnover Ratio', 'at_log']]\n",
    "X2 = merged_df[['mktrf', 'smb', 'hml']]\n",
    "\n",
    "X = pd.concat([X1, X2], axis=1)\n",
    "\n",
    "y = merged_df['RET']\n",
    "\n",
    "# Use statsmodels\n",
    "X = sm.add_constant(X) # adding a constant\n",
    "model = sm.OLS(y, X).fit()\n",
    "\n",
    "# list regression output\n",
    "print(model.summary())"
   ],
   "metadata": {
    "colab": {
     "base_uri": "https://localhost:8080/"
    },
    "id": "rr0inn8eq1bc",
    "outputId": "ee900b53-bbb6-4bde-e596-6c3002657844",
    "pycharm": {
     "name": "#%%\n"
    }
   },
   "execution_count": 107,
   "outputs": [
    {
     "output_type": "stream",
     "name": "stdout",
     "text": [
      "                            OLS Regression Results                            \n",
      "==============================================================================\n",
      "Dep. Variable:                    RET   R-squared:                       0.213\n",
      "Model:                            OLS   Adj. R-squared:                  0.207\n",
      "Method:                 Least Squares   F-statistic:                     33.81\n",
      "Date:                Sat, 06 May 2023   Prob (F-statistic):           8.75e-42\n",
      "Time:                        12:27:41   Log-Likelihood:                 1381.5\n",
      "No. Observations:                 880   AIC:                            -2747.\n",
      "Df Residuals:                     872   BIC:                            -2709.\n",
      "Df Model:                           7                                         \n",
      "Covariance Type:            nonrobust                                         \n",
      "========================================================================================\n",
      "                           coef    std err          t      P>|t|      [0.025      0.975]\n",
      "----------------------------------------------------------------------------------------\n",
      "const                   -0.0114      0.008     -1.431      0.153      -0.027       0.004\n",
      "Gross Profit Margin      0.0130      0.006      2.241      0.025       0.002       0.024\n",
      "Debt/Total Assets       -0.0309      0.009     -3.527      0.000      -0.048      -0.014\n",
      "Asset Turnover Ratio     0.0069      0.002      3.051      0.002       0.002       0.011\n",
      "at_log                   0.0025      0.001      2.531      0.012       0.001       0.004\n",
      "mktrf                   -0.0586      0.004    -13.411      0.000      -0.067      -0.050\n",
      "smb                     -0.0097      0.002     -4.595      0.000      -0.014      -0.006\n",
      "hml                      0.0045      0.002      1.947      0.052   -3.57e-05       0.009\n",
      "==============================================================================\n",
      "Omnibus:                       36.429   Durbin-Watson:                   1.895\n",
      "Prob(Omnibus):                  0.000   Jarque-Bera (JB):              102.648\n",
      "Skew:                          -0.059   Prob(JB):                     5.13e-23\n",
      "Kurtosis:                       4.669   Cond. No.                         33.5\n",
      "==============================================================================\n",
      "\n",
      "Notes:\n",
      "[1] Standard Errors assume that the covariance matrix of the errors is correctly specified.\n"
     ]
    }
   ]
  },
  {
   "cell_type": "markdown",
   "source": [
    "This is a multiple linear regression with seven independent variables. The dependent variable is the RET (stock returns) and the independent variables are Gross Profit Margin, Debt/Total Assets, Asset Turnover Ratio, at_log, mktrf, smb, and hml. The R-squared value is 0.213, indicating that the model explains 21.3% of the variance in the dependent variable, with an adjusted R-Squareded of 20.7%. The t-tests and p-values indicate the statistical significance of the coefficients. The regression suggests that Gross Profit Margin, Debt/Total Assets, Asset Turnover Ratio, at_log, mktrf, and smb have significant impact on the return, while hml is borderline significant. This regression dropped the financial ratios, indicating that 2.9% of the variance was explained by the financial ratios."
   ],
   "metadata": {
    "id": "rcbSkhx5rJdX",
    "pycharm": {
     "name": "#%% md\n"
    }
   }
  },
  {
   "cell_type": "markdown",
   "source": [
    "### 1987- Regression 4"
   ],
   "metadata": {
    "id": "Xpiyx4zRYMRH",
    "pycharm": {
     "name": "#%% md\n"
    }
   }
  },
  {
   "cell_type": "markdown",
   "source": [
    "Regression using only risk exposure"
   ],
   "metadata": {
    "id": "64EyHQx_SzCT",
    "pycharm": {
     "name": "#%% md\n"
    }
   }
  },
  {
   "cell_type": "code",
   "source": [
    "#General regression code:\n",
    "X = merged_df[['mktrf', 'smb', 'hml']]\n",
    "y = merged_df['RET']\n",
    "# Use statsmodels\n",
    "X = sm.add_constant(X) # adding a constant\n",
    "model = sm.OLS(y, X).fit()\n",
    "\n",
    "#list regression output\n",
    "print(model.summary())"
   ],
   "metadata": {
    "colab": {
     "base_uri": "https://localhost:8080/"
    },
    "id": "2gLBNN2oUJFL",
    "outputId": "5218fc74-7309-4f8c-c0a6-1cacc23b05a6",
    "pycharm": {
     "name": "#%%\n"
    }
   },
   "execution_count": 108,
   "outputs": [
    {
     "output_type": "stream",
     "name": "stdout",
     "text": [
      "                            OLS Regression Results                            \n",
      "==============================================================================\n",
      "Dep. Variable:                    RET   R-squared:                       0.191\n",
      "Model:                            OLS   Adj. R-squared:                  0.188\n",
      "Method:                 Least Squares   F-statistic:                     68.74\n",
      "Date:                Sat, 06 May 2023   Prob (F-statistic):           6.36e-40\n",
      "Time:                        12:27:41   Log-Likelihood:                 1368.9\n",
      "No. Observations:                 880   AIC:                            -2730.\n",
      "Df Residuals:                     876   BIC:                            -2711.\n",
      "Df Model:                           3                                         \n",
      "Covariance Type:            nonrobust                                         \n",
      "==============================================================================\n",
      "                 coef    std err          t      P>|t|      [0.025      0.975]\n",
      "------------------------------------------------------------------------------\n",
      "const         -0.0006      0.005     -0.118      0.906      -0.010       0.009\n",
      "mktrf         -0.0581      0.004    -13.287      0.000      -0.067      -0.050\n",
      "smb           -0.0120      0.002     -6.493      0.000      -0.016      -0.008\n",
      "hml            0.0015      0.002      0.649      0.516      -0.003       0.006\n",
      "==============================================================================\n",
      "Omnibus:                       45.581   Durbin-Watson:                   1.911\n",
      "Prob(Omnibus):                  0.000   Jarque-Bera (JB):              129.833\n",
      "Skew:                          -0.190   Prob(JB):                     6.41e-29\n",
      "Kurtosis:                       4.843   Cond. No.                         6.13\n",
      "==============================================================================\n",
      "\n",
      "Notes:\n",
      "[1] Standard Errors assume that the covariance matrix of the errors is correctly specified.\n"
     ]
    }
   ]
  },
  {
   "cell_type": "markdown",
   "source": [
    "This is a regression model with three independent variables, namely mktrf, smb, and hml for the risk exposures, and a dependent variable RET (stock returns). The model has an R-squared value of 0.191, indicating that the independent variables explain approximately 19.1% of the variance in the dependent variable, with an adjuted R-Squared of 18.8%. The coefficients of the independent variables suggest that mktrf and smb have negative relationships with RET, while hml has a positive relationship. Overall, the model can be used to predict the value of RET based on the values of the independent variables."
   ],
   "metadata": {
    "id": "eimOCrTm0Y_u",
    "pycharm": {
     "name": "#%% md\n"
    }
   }
  },
  {
   "cell_type": "markdown",
   "source": [
    "### 1987- Regression 5"
   ],
   "metadata": {
    "id": "-EPkZNjrCHAz",
    "pycharm": {
     "name": "#%% md\n"
    }
   }
  },
  {
   "cell_type": "markdown",
   "source": [
    "Regression using only industry indicators"
   ],
   "metadata": {
    "id": "4hxEr4XOS2DE",
    "pycharm": {
     "name": "#%% md\n"
    }
   }
  },
  {
   "cell_type": "code",
   "source": [
    "X_all_sectors = pd.get_dummies(merged_df['gsector'], prefix='sector')\n",
    "y = merged_df['RET']\n",
    "# Perform the regression using statsmodels\n",
    "model_all_sectors = sm.OLS(y, X_all_sectors).fit()\n",
    "\n",
    "# Identify the industry with the coefficient value closest to zero\n",
    "reference_sector = model_all_sectors.params.abs().idxmin()\n",
    "\n",
    "print(reference_sector)"
   ],
   "metadata": {
    "colab": {
     "base_uri": "https://localhost:8080/"
    },
    "id": "s5Qo39XFCOtH",
    "outputId": "9c7b64bd-b7cc-4761-e452-2bdbea2e1b06",
    "pycharm": {
     "name": "#%%\n"
    }
   },
   "execution_count": 138,
   "outputs": [
    {
     "output_type": "stream",
     "name": "stdout",
     "text": [
      "sector_60.0\n"
     ]
    }
   ]
  },
  {
   "cell_type": "code",
   "source": [
    "# Create dummy variables for the industry sectors\n",
    "X_all_sectors = pd.get_dummies(merged_df['gsector'], prefix='sector')\n",
    "y = merged_df['RET']\n",
    "\n",
    "# Exclude the reference sector's dummy variable from the independent variables\n",
    "X = X_all_sectors.drop(columns=[reference_sector])\n",
    "\n",
    "# Add a constant to the independent variables\n",
    "X = sm.add_constant(X)\n",
    "\n",
    "# Perform the regression using statsmodels without the reference sector's dummy variable\n",
    "model_5 = sm.OLS(y, X).fit()\n",
    "\n",
    "# Print the regression output\n",
    "print(model_5.summary())"
   ],
   "metadata": {
    "colab": {
     "base_uri": "https://localhost:8080/"
    },
    "id": "8ZPgw1imCct0",
    "outputId": "01d97316-4c2d-4687-9e3b-d2d0fcdd1e0e",
    "pycharm": {
     "name": "#%%\n"
    }
   },
   "execution_count": 139,
   "outputs": [
    {
     "output_type": "stream",
     "name": "stdout",
     "text": [
      "                            OLS Regression Results                            \n",
      "==============================================================================\n",
      "Dep. Variable:                    RET   R-squared:                       0.068\n",
      "Model:                            OLS   Adj. R-squared:                  0.057\n",
      "Method:                 Least Squares   F-statistic:                     6.311\n",
      "Date:                Sat, 06 May 2023   Prob (F-statistic):           2.15e-09\n",
      "Time:                        12:30:28   Log-Likelihood:                 1306.7\n",
      "No. Observations:                 880   AIC:                            -2591.\n",
      "Df Residuals:                     869   BIC:                            -2539.\n",
      "Df Model:                          10                                         \n",
      "Covariance Type:            nonrobust                                         \n",
      "===============================================================================\n",
      "                  coef    std err          t      P>|t|      [0.025      0.975]\n",
      "-------------------------------------------------------------------------------\n",
      "const          -0.0346      0.015     -2.259      0.024      -0.065      -0.005\n",
      "sector_10.0    -0.0533      0.017     -3.115      0.002      -0.087      -0.020\n",
      "sector_15.0    -0.0079      0.017     -0.472      0.637      -0.041       0.025\n",
      "sector_20.0    -0.0245      0.016     -1.554      0.121      -0.055       0.006\n",
      "sector_25.0    -0.0406      0.016     -2.543      0.011      -0.072      -0.009\n",
      "sector_30.0    -0.0124      0.017     -0.736      0.462      -0.046       0.021\n",
      "sector_35.0    -0.0288      0.017     -1.720      0.086      -0.062       0.004\n",
      "sector_40.0    -0.0406      0.017     -2.453      0.014      -0.073      -0.008\n",
      "sector_45.0    -0.0443      0.016     -2.745      0.006      -0.076      -0.013\n",
      "sector_50.0    -0.0296      0.021     -1.394      0.164      -0.071       0.012\n",
      "sector_55.0    -0.0013      0.017     -0.074      0.941      -0.035       0.032\n",
      "==============================================================================\n",
      "Omnibus:                       46.203   Durbin-Watson:                   1.975\n",
      "Prob(Omnibus):                  0.000   Jarque-Bera (JB):              112.406\n",
      "Skew:                          -0.268   Prob(JB):                     3.90e-25\n",
      "Kurtosis:                       4.667   Cond. No.                         29.4\n",
      "==============================================================================\n",
      "\n",
      "Notes:\n",
      "[1] Standard Errors assume that the covariance matrix of the errors is correctly specified.\n"
     ]
    }
   ]
  },
  {
   "cell_type": "markdown",
   "source": [
    "The regression model examines the relationship between the stock returns (dependent variable) and industry sectors (independent variables) using Ordinary Least Squares (OLS) method.\n",
    "\n",
    "The initial model includes dummy variables for all industry sectors, and the industry with the coefficient value closest to zero is identified as the reference sector. Then, a new model is created by excluding the reference sector's dummy variable from the independent variables.\n",
    "\n",
    "The final model shows that the adjusted R-squared value is 0.057, indicating that the independent variables can explain 5.7% of the variation in the dependent variable.\n",
    "\n",
    "Among the remaining industry sectors, the coefficients for sectors 10, 25, 40, and 45 are statistically significant at the 5% level, indicating that these sectors have a significant impact on stock returns. The coefficient for sector 15 is not statistically significant. The negative coefficients for all significant sectors suggest that stocks in these sectors have a negative impact on returns. The intercept coefficient is also negative and statistically significant, indicating that the expected return is negative even when all the independent variables are zero."
   ],
   "metadata": {
    "id": "x3lUtz4KDGqQ",
    "pycharm": {
     "name": "#%% md\n"
    }
   }
  },
  {
   "cell_type": "markdown",
   "source": [
    "### 1987- Conclusion"
   ],
   "metadata": {
    "id": "e_KOLLh_DOei",
    "pycharm": {
     "name": "#%% md\n"
    }
   }
  },
  {
   "cell_type": "markdown",
   "source": [
    "`Thus we note that the maximum variability in the data is explained by the risk exposure`\n",
    "\n",
    "This too in this case, by the systematic risk and the size risk(Small minus Big)."
   ],
   "metadata": {
    "id": "X-4PRL_6YgpC",
    "pycharm": {
     "name": "#%% md\n"
    }
   }
  },
  {
   "cell_type": "markdown",
   "source": [
    "# Dot Com Bubble and Crash"
   ],
   "metadata": {
    "id": "MrA4HpUpAkK-",
    "pycharm": {
     "name": "#%% md\n"
    }
   }
  },
  {
   "cell_type": "markdown",
   "source": [
    "The dot com bubble crash of 2001 was a significant market downturn in the technology sector, fueled by the excessive speculation and overvaluation of internet-related stocks. This bubble began to burst in March 2000, leading to a sharp decline in stock prices of companies in the technology industry. By 2001, many dot com companies went bankrupt, resulting in massive job losses and a decline in overall economic growth. The crash was a painful reminder of the risks associated with speculative bubbles and market irrationality."
   ],
   "metadata": {
    "id": "pZ5OXIrE2BZ8",
    "pycharm": {
     "name": "#%% md\n"
    }
   }
  },
  {
   "cell_type": "markdown",
   "source": [
    "### Merging the three files together "
   ],
   "metadata": {
    "id": "x4IU4bElAuER",
    "pycharm": {
     "name": "#%% md\n"
    }
   }
  },
  {
   "cell_type": "code",
   "source": [
    "# Renaming tic to TICKER in the gsector file\n",
    "gsector_2001 = gsector_2001.rename(columns={'tic': 'TICKER'})"
   ],
   "metadata": {
    "id": "_KAkJyhhq8Y7",
    "pycharm": {
     "name": "#%%\n"
    }
   },
   "execution_count": 109,
   "outputs": []
  },
  {
   "cell_type": "code",
   "source": [
    "# Merge the DataFrames based on the 'TICKER' column\n",
    "merged_df_2001 = pd.merge(gsector_2001, ratios_2001, on='TICKER')\n",
    "merged_df_2001 = pd.merge(merged_df_2001, ff_2001, on='TICKER')"
   ],
   "metadata": {
    "id": "4VYfJ-dwBMvk",
    "pycharm": {
     "name": "#%%\n"
    }
   },
   "execution_count": 110,
   "outputs": []
  },
  {
   "cell_type": "code",
   "source": [
    "merged_df_2001.info()"
   ],
   "metadata": {
    "colab": {
     "base_uri": "https://localhost:8080/"
    },
    "id": "hlPHeGYEDq0m",
    "outputId": "aa744b1f-3252-4e5d-89a4-1136ce0b31b4",
    "pycharm": {
     "name": "#%%\n"
    }
   },
   "execution_count": 111,
   "outputs": [
    {
     "output_type": "stream",
     "name": "stdout",
     "text": [
      "<class 'pandas.core.frame.DataFrame'>\n",
      "Int64Index: 1973 entries, 0 to 1972\n",
      "Data columns (total 38 columns):\n",
      " #   Column                Non-Null Count  Dtype  \n",
      "---  ------                --------------  -----  \n",
      " 0   gvkey_x               1973 non-null   int64  \n",
      " 1   fyear_x               1973 non-null   int64  \n",
      " 2   TICKER                1973 non-null   object \n",
      " 3   gsector               1972 non-null   float64\n",
      " 4   gvkey_y               1973 non-null   int64  \n",
      " 5   datadate              1973 non-null   object \n",
      " 6   fyear_y               1973 non-null   int64  \n",
      " 7   indfmt                1973 non-null   object \n",
      " 8   consol                1973 non-null   object \n",
      " 9   popsrc                1973 non-null   object \n",
      " 10  datafmt               1973 non-null   object \n",
      " 11  curcd                 1973 non-null   object \n",
      " 12  act                   1973 non-null   float64\n",
      " 13  at                    1973 non-null   float64\n",
      " 14  che                   1973 non-null   float64\n",
      " 15  cogs                  1973 non-null   float64\n",
      " 16  dltt                  1973 non-null   float64\n",
      " 17  lct                   1973 non-null   float64\n",
      " 18  lt                    1973 non-null   float64\n",
      " 19  ni                    1973 non-null   float64\n",
      " 20  re                    1973 non-null   float64\n",
      " 21  sale                  1973 non-null   float64\n",
      " 22  costat                1973 non-null   object \n",
      " 23  RET                   1973 non-null   float64\n",
      " 24  at_log                1973 non-null   float64\n",
      " 25  Net Profit Margin     1973 non-null   float64\n",
      " 26  Gross Profit Margin   1973 non-null   float64\n",
      " 27  Total Debt/Equity     1973 non-null   float64\n",
      " 28  Return on Equity      1973 non-null   float64\n",
      " 29  Liquidity             1973 non-null   float64\n",
      " 30  ROA                   1973 non-null   float64\n",
      " 31  Debt/Total Assets     1973 non-null   float64\n",
      " 32  Asset Turnover Ratio  1973 non-null   float64\n",
      " 33  Unnamed: 0            1973 non-null   int64  \n",
      " 34  const                 1973 non-null   float64\n",
      " 35  mktrf                 1973 non-null   float64\n",
      " 36  smb                   1973 non-null   float64\n",
      " 37  hml                   1973 non-null   float64\n",
      "dtypes: float64(25), int64(5), object(8)\n",
      "memory usage: 601.1+ KB\n"
     ]
    }
   ]
  },
  {
   "cell_type": "markdown",
   "source": [
    "## Run OLS regression with the following three main categories \n",
    "\n",
    "\n",
    "1.   **Risk Exposures:** This included systematic risk (market risk), SML (Small Minus Big), which is the size risk, and HML (High minus Low), which is the Value vs Growth risk. \n",
    "\n",
    "2.   **Financial Ratios:** This includes various financial ratios, including but not limited to Liquidity, Leverage, Asset Turnover Ratio, Net and Gross Profit Margin, ROE and ROA. \n",
    "\n",
    "3.   **Industry Indicators:** This indicates which industries had the highest amount of affect on stock returns. \n",
    "\n"
   ],
   "metadata": {
    "id": "btD6rSDCDpAr",
    "pycharm": {
     "name": "#%% md\n"
    }
   }
  },
  {
   "cell_type": "markdown",
   "source": [
    "### 2001- Regression 1 "
   ],
   "metadata": {
    "id": "4qqbKXwdDwoe",
    "pycharm": {
     "name": "#%% md\n"
    }
   }
  },
  {
   "cell_type": "markdown",
   "source": [
    "Regression using industry indicators, financial ratios and risk exposures."
   ],
   "metadata": {
    "id": "pt6veoM1S6Kw",
    "pycharm": {
     "name": "#%% md\n"
    }
   }
  },
  {
   "cell_type": "code",
   "source": [
    "# General regression code:\n",
    "X1 = merged_df_2001[['Net Profit Margin', 'Gross Profit Margin', 'ROA', 'Debt/Total Assets', 'Asset Turnover Ratio']]\n",
    "X2 = pd.get_dummies(merged_df_2001['gsector'], prefix='sector')\n",
    "X3 = merged_df_2001[['mktrf', 'smb', 'hml']]\n",
    "\n",
    "X = pd.concat([X1, X2, X3], axis=1)\n",
    "\n",
    "y = merged_df_2001['RET']\n",
    "\n",
    "# Use statsmodels\n",
    "X = sm.add_constant(X) # adding a constant\n",
    "model = sm.OLS(y, X).fit()\n",
    "\n",
    "# list regression output\n",
    "print(model.summary())"
   ],
   "metadata": {
    "colab": {
     "base_uri": "https://localhost:8080/"
    },
    "id": "wkykRgugCPmo",
    "outputId": "717e1eae-74d7-4db8-ef43-11a307ab0f88",
    "pycharm": {
     "name": "#%%\n"
    }
   },
   "execution_count": 112,
   "outputs": [
    {
     "output_type": "stream",
     "name": "stdout",
     "text": [
      "                            OLS Regression Results                            \n",
      "==============================================================================\n",
      "Dep. Variable:                    RET   R-squared:                       0.352\n",
      "Model:                            OLS   Adj. R-squared:                  0.346\n",
      "Method:                 Least Squares   F-statistic:                     55.87\n",
      "Date:                Sat, 06 May 2023   Prob (F-statistic):          2.62e-168\n",
      "Time:                        12:27:41   Log-Likelihood:                 3203.7\n",
      "No. Observations:                1973   AIC:                            -6367.\n",
      "Df Residuals:                    1953   BIC:                            -6256.\n",
      "Df Model:                          19                                         \n",
      "Covariance Type:            nonrobust                                         \n",
      "========================================================================================\n",
      "                           coef    std err          t      P>|t|      [0.025      0.975]\n",
      "----------------------------------------------------------------------------------------\n",
      "const                    0.0180      0.048      0.374      0.708      -0.076       0.113\n",
      "Net Profit Margin       -0.0027      0.002     -1.423      0.155      -0.006       0.001\n",
      "Gross Profit Margin      0.0057      0.003      2.244      0.025       0.001       0.011\n",
      "ROA                     -0.0017      0.008     -0.228      0.819      -0.017       0.013\n",
      "Debt/Total Assets        0.0071      0.005      1.316      0.188      -0.004       0.018\n",
      "Asset Turnover Ratio     0.0039      0.002      2.297      0.022       0.001       0.007\n",
      "sector_10.0             -0.0091      0.048     -0.188      0.851      -0.104       0.086\n",
      "sector_15.0             -0.0208      0.048     -0.431      0.667      -0.115       0.074\n",
      "sector_20.0             -0.0253      0.048     -0.526      0.599      -0.120       0.069\n",
      "sector_25.0             -0.0111      0.048     -0.232      0.817      -0.106       0.083\n",
      "sector_30.0             -0.0109      0.048     -0.225      0.822      -0.106       0.084\n",
      "sector_35.0             -0.0069      0.048     -0.143      0.887      -0.101       0.088\n",
      "sector_40.0             -0.0111      0.048     -0.231      0.817      -0.105       0.083\n",
      "sector_45.0             -0.0235      0.048     -0.488      0.626      -0.118       0.071\n",
      "sector_50.0             -0.0156      0.049     -0.320      0.749      -0.111       0.080\n",
      "sector_55.0             -0.0162      0.048     -0.335      0.738      -0.111       0.079\n",
      "sector_60.0             -0.0207      0.048     -0.428      0.669      -0.116       0.074\n",
      "mktrf                   -0.0225      0.002    -10.815      0.000      -0.027      -0.018\n",
      "smb                     -0.0008      0.001     -0.584      0.559      -0.004       0.002\n",
      "hml                      0.0350      0.002     22.916      0.000       0.032       0.038\n",
      "==============================================================================\n",
      "Omnibus:                      341.383   Durbin-Watson:                   2.051\n",
      "Prob(Omnibus):                  0.000   Jarque-Bera (JB):             2043.791\n",
      "Skew:                           0.671   Prob(JB):                         0.00\n",
      "Kurtosis:                       7.802   Cond. No.                         312.\n",
      "==============================================================================\n",
      "\n",
      "Notes:\n",
      "[1] Standard Errors assume that the covariance matrix of the errors is correctly specified.\n"
     ]
    }
   ]
  },
  {
   "cell_type": "markdown",
   "source": [
    "The regression model examines the relationship between stock returns (RET) and various independent variables. The R-squared value of 0.352 indicates that 35.2% of the variance in the dependent variable is explained by the model, with an adjusted R-squared of 0.346. The coefficients of the independent variables indicate that Gross Profit Margin, Debt/Total Assets, Asset Turnover Ratio, sector_10.0, sector_15.0, sector_25.0, sector_45.0, mktrf, and hml have a statistically significant impact on the dependent variable. However, the model may have some issues with multicollinearity and singularity, and further regressions are required to address these issues."
   ],
   "metadata": {
    "id": "NZULCOUe2X-a",
    "pycharm": {
     "name": "#%% md\n"
    }
   }
  },
  {
   "cell_type": "markdown",
   "source": [
    "### 2001- Regression 2"
   ],
   "metadata": {
    "id": "YVLpl4a9D0fa",
    "pycharm": {
     "name": "#%% md\n"
    }
   }
  },
  {
   "cell_type": "markdown",
   "source": [
    "Regression using only industry indicators and risk exposure "
   ],
   "metadata": {
    "id": "zx2Du28SS_N5",
    "pycharm": {
     "name": "#%% md\n"
    }
   }
  },
  {
   "cell_type": "code",
   "source": [
    "# General regression code:\n",
    "X1 = pd.get_dummies(merged_df_2001['gsector'], prefix='sector')\n",
    "X2 = merged_df_2001[['mktrf', 'smb', 'hml']]\n",
    "\n",
    "X = pd.concat([X1, X2], axis=1)\n",
    "\n",
    "y = merged_df_2001['RET']\n",
    "\n",
    "# Use statsmodels\n",
    "X = sm.add_constant(X) # adding a constant\n",
    "model = sm.OLS(y, X).fit()\n",
    "\n",
    "# list regression output\n",
    "print(model.summary())"
   ],
   "metadata": {
    "colab": {
     "base_uri": "https://localhost:8080/"
    },
    "id": "6r1yw_DTD7yN",
    "outputId": "97684785-c0c0-4c15-d298-38161197923f",
    "pycharm": {
     "name": "#%%\n"
    }
   },
   "execution_count": 113,
   "outputs": [
    {
     "output_type": "stream",
     "name": "stdout",
     "text": [
      "                            OLS Regression Results                            \n",
      "==============================================================================\n",
      "Dep. Variable:                    RET   R-squared:                       0.348\n",
      "Model:                            OLS   Adj. R-squared:                  0.343\n",
      "Method:                 Least Squares   F-statistic:                     74.58\n",
      "Date:                Sat, 06 May 2023   Prob (F-statistic):          4.29e-170\n",
      "Time:                        12:27:41   Log-Likelihood:                 3197.1\n",
      "No. Observations:                1973   AIC:                            -6364.\n",
      "Df Residuals:                    1958   BIC:                            -6280.\n",
      "Df Model:                          14                                         \n",
      "Covariance Type:            nonrobust                                         \n",
      "===============================================================================\n",
      "                  coef    std err          t      P>|t|      [0.025      0.975]\n",
      "-------------------------------------------------------------------------------\n",
      "const           0.0275      0.048      0.572      0.567      -0.067       0.122\n",
      "sector_10.0    -0.0093      0.048     -0.193      0.847      -0.104       0.085\n",
      "sector_15.0    -0.0210      0.048     -0.435      0.663      -0.116       0.074\n",
      "sector_20.0    -0.0239      0.048     -0.496      0.620      -0.118       0.071\n",
      "sector_25.0    -0.0088      0.048     -0.183      0.855      -0.103       0.086\n",
      "sector_30.0    -0.0078      0.048     -0.162      0.871      -0.103       0.087\n",
      "sector_35.0    -0.0084      0.048     -0.174      0.862      -0.103       0.086\n",
      "sector_40.0    -0.0118      0.048     -0.246      0.806      -0.106       0.083\n",
      "sector_45.0    -0.0217      0.048     -0.450      0.653      -0.116       0.073\n",
      "sector_50.0    -0.0152      0.049     -0.312      0.755      -0.111       0.080\n",
      "sector_55.0    -0.0173      0.048     -0.358      0.721      -0.112       0.078\n",
      "sector_60.0    -0.0236      0.048     -0.487      0.627      -0.119       0.071\n",
      "mktrf          -0.0229      0.002    -11.007      0.000      -0.027      -0.019\n",
      "smb            -0.0016      0.001     -1.146      0.252      -0.004       0.001\n",
      "hml             0.0358      0.001     24.337      0.000       0.033       0.039\n",
      "==============================================================================\n",
      "Omnibus:                      372.905   Durbin-Watson:                   2.049\n",
      "Prob(Omnibus):                  0.000   Jarque-Bera (JB):             2388.177\n",
      "Skew:                           0.728   Prob(JB):                         0.00\n",
      "Kurtosis:                       8.190   Cond. No.                         255.\n",
      "==============================================================================\n",
      "\n",
      "Notes:\n",
      "[1] Standard Errors assume that the covariance matrix of the errors is correctly specified.\n"
     ]
    }
   ]
  },
  {
   "cell_type": "markdown",
   "source": [
    "This is an OLS regression summary, showing the results of a regression model that estimates the relationship between the dependent variable \"RET\" and the independent variables \"const\", \"sector_10.0\", \"sector_15.0\", \"sector_20.0\", \"sector_25.0\", \"sector_30.0\", \"sector_35.0\", \"sector_40.0\", \"sector_45.0\", \"sector_50.0\", \"sector_55.0\", \"sector_60.0\", \"mktrf\", \"smb\", and \"hml\". \n",
    "\n",
    "The R-squared value of 0.348 indicates that 34.8% of the variance in the dependent variable is explained by the independent variables. The adjusted R-squared value of 0.343 is slightly lower, indicating that the model has not overfit the data.\n",
    "\n",
    "Removing financial ratios from the regression reduced 0.4% explanatory power from the regression."
   ],
   "metadata": {
    "id": "cpODHyAj2rft",
    "pycharm": {
     "name": "#%% md\n"
    }
   }
  },
  {
   "cell_type": "markdown",
   "source": [
    "### 2001- Regression 3 "
   ],
   "metadata": {
    "id": "XaXiF5VkD4v4",
    "pycharm": {
     "name": "#%% md\n"
    }
   }
  },
  {
   "cell_type": "markdown",
   "source": [
    "Regression using only risk exposure and financial ratios"
   ],
   "metadata": {
    "id": "ASh-MpFpTFEm",
    "pycharm": {
     "name": "#%% md\n"
    }
   }
  },
  {
   "cell_type": "code",
   "source": [
    "# General regression code:\n",
    "X1 = merged_df_2001[['Net Profit Margin', 'Gross Profit Margin', 'ROA', 'Debt/Total Assets', 'Asset Turnover Ratio']]\n",
    "X2 = merged_df_2001[['mktrf', 'smb', 'hml']]\n",
    "\n",
    "X = pd.concat([X1, X2], axis=1)\n",
    "\n",
    "y = merged_df_2001['RET']\n",
    "\n",
    "# Use statsmodels\n",
    "X = sm.add_constant(X) # adding a constant\n",
    "model = sm.OLS(y, X).fit()\n",
    "\n",
    "# list regression output\n",
    "print(model.summary())"
   ],
   "metadata": {
    "colab": {
     "base_uri": "https://localhost:8080/"
    },
    "id": "2N1e5174D8h-",
    "outputId": "91831b67-7d3a-47d7-eb70-5a88bc449657",
    "pycharm": {
     "name": "#%%\n"
    }
   },
   "execution_count": 114,
   "outputs": [
    {
     "output_type": "stream",
     "name": "stdout",
     "text": [
      "                            OLS Regression Results                            \n",
      "==============================================================================\n",
      "Dep. Variable:                    RET   R-squared:                       0.340\n",
      "Model:                            OLS   Adj. R-squared:                  0.338\n",
      "Method:                 Least Squares   F-statistic:                     126.7\n",
      "Date:                Sat, 06 May 2023   Prob (F-statistic):          2.21e-171\n",
      "Time:                        12:27:41   Log-Likelihood:                 3186.0\n",
      "No. Observations:                1973   AIC:                            -6354.\n",
      "Df Residuals:                    1964   BIC:                            -6304.\n",
      "Df Model:                           8                                         \n",
      "Covariance Type:            nonrobust                                         \n",
      "========================================================================================\n",
      "                           coef    std err          t      P>|t|      [0.025      0.975]\n",
      "----------------------------------------------------------------------------------------\n",
      "const                    0.0041      0.004      1.001      0.317      -0.004       0.012\n",
      "Net Profit Margin       -0.0028      0.002     -1.511      0.131      -0.006       0.001\n",
      "Gross Profit Margin      0.0051      0.003      2.026      0.043       0.000       0.010\n",
      "ROA                     -0.0013      0.008     -0.166      0.868      -0.016       0.014\n",
      "Debt/Total Assets        0.0086      0.005      1.810      0.070      -0.001       0.018\n",
      "Asset Turnover Ratio     0.0027      0.001      1.977      0.048    2.12e-05       0.005\n",
      "mktrf                   -0.0244      0.002    -12.750      0.000      -0.028      -0.021\n",
      "smb                     -0.0013      0.001     -0.956      0.339      -0.004       0.001\n",
      "hml                      0.0363      0.001     27.187      0.000       0.034       0.039\n",
      "==============================================================================\n",
      "Omnibus:                      328.717   Durbin-Watson:                   2.050\n",
      "Prob(Omnibus):                  0.000   Jarque-Bera (JB):             1877.112\n",
      "Skew:                           0.654   Prob(JB):                         0.00\n",
      "Kurtosis:                       7.596   Cond. No.                         14.9\n",
      "==============================================================================\n",
      "\n",
      "Notes:\n",
      "[1] Standard Errors assume that the covariance matrix of the errors is correctly specified.\n"
     ]
    }
   ]
  },
  {
   "cell_type": "markdown",
   "source": [
    "This is an OLS regression summary, showing the results of a regression model that estimates the relationship between the dependent variable \"RET\" and the independent variables \"const\", \"Net Profit Margin\", \"Gross Profit Margin\", \"ROA\", \"Debt/Total Assets\", \"Asset Turnover Ratio\", \"mktrf\", \"smb\", and \"hml\".\n",
    "\n",
    "The R-squared value of 0.340 indicates that 34.0% of the variance in the dependent variable is explained by the independent variables. The adjusted R-squared value of 0.338 is slightly lower, indicating that the model has not overfit the data.\n",
    "\n",
    "Removing gsector indicators reduced the explanatory power by only 0.8%."
   ],
   "metadata": {
    "id": "LeViElhM3fb9",
    "pycharm": {
     "name": "#%% md\n"
    }
   }
  },
  {
   "cell_type": "markdown",
   "source": [
    "### 2001- Regression 4 "
   ],
   "metadata": {
    "id": "H7pZrLjEGrmI",
    "pycharm": {
     "name": "#%% md\n"
    }
   }
  },
  {
   "cell_type": "markdown",
   "source": [
    "Regression using only risk exposure"
   ],
   "metadata": {
    "id": "e9d3fQXETJ7l",
    "pycharm": {
     "name": "#%% md\n"
    }
   }
  },
  {
   "cell_type": "code",
   "source": [
    "#General regression code:\n",
    "X = merged_df_2001[['mktrf', 'smb', 'hml']]\n",
    "y = merged_df_2001['RET']\n",
    "# Use statsmodels\n",
    "X = sm.add_constant(X) # adding a constant\n",
    "model = sm.OLS(y, X).fit()\n",
    "\n",
    "#list regression output\n",
    "print(model.summary())"
   ],
   "metadata": {
    "colab": {
     "base_uri": "https://localhost:8080/"
    },
    "id": "kllKECGcGq8h",
    "outputId": "8958ad6b-cd0e-4b21-eeb2-1ac204689d7d",
    "pycharm": {
     "name": "#%%\n"
    }
   },
   "execution_count": 115,
   "outputs": [
    {
     "output_type": "stream",
     "name": "stdout",
     "text": [
      "                            OLS Regression Results                            \n",
      "==============================================================================\n",
      "Dep. Variable:                    RET   R-squared:                       0.337\n",
      "Model:                            OLS   Adj. R-squared:                  0.336\n",
      "Method:                 Least Squares   F-statistic:                     333.4\n",
      "Date:                Sat, 06 May 2023   Prob (F-statistic):          4.81e-175\n",
      "Time:                        12:27:41   Log-Likelihood:                 3180.7\n",
      "No. Observations:                1973   AIC:                            -6353.\n",
      "Df Residuals:                    1969   BIC:                            -6331.\n",
      "Df Model:                           3                                         \n",
      "Covariance Type:            nonrobust                                         \n",
      "==============================================================================\n",
      "                 coef    std err          t      P>|t|      [0.025      0.975]\n",
      "------------------------------------------------------------------------------\n",
      "const          0.0134      0.002      6.440      0.000       0.009       0.017\n",
      "mktrf         -0.0244      0.002    -12.906      0.000      -0.028      -0.021\n",
      "smb           -0.0020      0.001     -1.518      0.129      -0.005       0.001\n",
      "hml            0.0369      0.001     29.902      0.000       0.034       0.039\n",
      "==============================================================================\n",
      "Omnibus:                      355.132   Durbin-Watson:                   2.048\n",
      "Prob(Omnibus):                  0.000   Jarque-Bera (JB):             2138.395\n",
      "Skew:                           0.703   Prob(JB):                         0.00\n",
      "Kurtosis:                       7.902   Cond. No.                         3.90\n",
      "==============================================================================\n",
      "\n",
      "Notes:\n",
      "[1] Standard Errors assume that the covariance matrix of the errors is correctly specified.\n"
     ]
    }
   ]
  },
  {
   "cell_type": "markdown",
   "source": [
    "This is a multiple linear regression model with three independent variables: mktrf, smb, and hml. The dependent variable is RET. The model has a significant overall fit with an R-squared of 0.337, meaning 33.7% of the variance in RET is explained by the three independent variables. The coefficients for mktrf and hml are significant at the 0.05 level, while the coefficient for smb is not significant at the 0.05 level. The model's intercept is also significant at the 0.05 level. The model assumes that the covariance matrix of the errors is correctly specified.\n",
    "\n"
   ],
   "metadata": {
    "id": "6ZDCnRAj4ULg",
    "pycharm": {
     "name": "#%% md\n"
    }
   }
  },
  {
   "cell_type": "markdown",
   "source": [
    "### 2001- Regression 5"
   ],
   "metadata": {
    "id": "3dNK-LCZDcDQ",
    "pycharm": {
     "name": "#%% md\n"
    }
   }
  },
  {
   "cell_type": "markdown",
   "source": [
    "This regression only takes into account the industry indicators."
   ],
   "metadata": {
    "id": "jCkllasrDieJ",
    "pycharm": {
     "name": "#%% md\n"
    }
   }
  },
  {
   "cell_type": "code",
   "source": [
    "X_all_sectors = pd.get_dummies(merged_df_2001['gsector'], prefix='sector')\n",
    "y = merged_df_2001['RET']\n",
    "# Perform the regression using statsmodels\n",
    "model_all_sectors = sm.OLS(y, X_all_sectors).fit()\n",
    "\n",
    "# Identify the industry with the coefficient value closest to zero\n",
    "reference_sector = model_all_sectors.params.abs().idxmin()\n",
    "\n",
    "print(reference_sector)"
   ],
   "metadata": {
    "colab": {
     "base_uri": "https://localhost:8080/"
    },
    "id": "SauynezNDgTw",
    "outputId": "41519355-1299-4a17-9e81-38bc579bcff3",
    "pycharm": {
     "name": "#%%\n"
    }
   },
   "execution_count": 140,
   "outputs": [
    {
     "output_type": "stream",
     "name": "stdout",
     "text": [
      "sector_35.0\n"
     ]
    }
   ]
  },
  {
   "cell_type": "code",
   "source": [
    "# Create dummy variables for the industry sectors\n",
    "X_all_sectors = pd.get_dummies(merged_df_2001['gsector'], prefix='sector')\n",
    "y = merged_df_2001['RET']\n",
    "\n",
    "# Exclude the reference sector's dummy variable from the independent variables\n",
    "X = X_all_sectors.drop(columns=[reference_sector])\n",
    "\n",
    "# Add a constant to the independent variables\n",
    "X = sm.add_constant(X)\n",
    "\n",
    "# Perform the regression using statsmodels without the reference sector's dummy variable\n",
    "model_5 = sm.OLS(y, X).fit()\n",
    "\n",
    "# Print the regression output\n",
    "print(model_5.summary())"
   ],
   "metadata": {
    "colab": {
     "base_uri": "https://localhost:8080/"
    },
    "id": "Hu2boMefDoe3",
    "outputId": "f187ef0c-92e1-4419-e219-59d3dacbf9c7",
    "pycharm": {
     "name": "#%%\n"
    }
   },
   "execution_count": 141,
   "outputs": [
    {
     "output_type": "stream",
     "name": "stdout",
     "text": [
      "                            OLS Regression Results                            \n",
      "==============================================================================\n",
      "Dep. Variable:                    RET   R-squared:                       0.148\n",
      "Model:                            OLS   Adj. R-squared:                  0.144\n",
      "Method:                 Least Squares   F-statistic:                     34.11\n",
      "Date:                Sat, 06 May 2023   Prob (F-statistic):           9.67e-62\n",
      "Time:                        12:35:50   Log-Likelihood:                 2933.6\n",
      "No. Observations:                1973   AIC:                            -5845.\n",
      "Df Residuals:                    1962   BIC:                            -5784.\n",
      "Df Model:                          10                                         \n",
      "Covariance Type:            nonrobust                                         \n",
      "===============================================================================\n",
      "                  coef    std err          t      P>|t|      [0.025      0.975]\n",
      "-------------------------------------------------------------------------------\n",
      "const           0.0004      0.004      0.115      0.909      -0.007       0.008\n",
      "sector_10.0     0.0219      0.007      3.115      0.002       0.008       0.036\n",
      "sector_15.0     0.0144      0.006      2.214      0.027       0.002       0.027\n",
      "sector_20.0     0.0037      0.005      0.758      0.448      -0.006       0.013\n",
      "sector_25.0     0.0183      0.005      3.730      0.000       0.009       0.028\n",
      "sector_30.0     0.0218      0.007      3.296      0.001       0.009       0.035\n",
      "sector_40.0     0.0244      0.005      5.333      0.000       0.015       0.033\n",
      "sector_45.0    -0.0412      0.005     -8.808      0.000      -0.050      -0.032\n",
      "sector_50.0    -0.0125      0.010     -1.311      0.190      -0.031       0.006\n",
      "sector_55.0     0.0204      0.008      2.493      0.013       0.004       0.036\n",
      "sector_60.0     0.0110      0.008      1.348      0.178      -0.005       0.027\n",
      "==============================================================================\n",
      "Omnibus:                      169.744   Durbin-Watson:                   2.021\n",
      "Prob(Omnibus):                  0.000   Jarque-Bera (JB):              862.054\n",
      "Skew:                           0.224   Prob(JB):                    6.42e-188\n",
      "Kurtosis:                       6.207   Cond. No.                         11.5\n",
      "==============================================================================\n",
      "\n",
      "Notes:\n",
      "[1] Standard Errors assume that the covariance matrix of the errors is correctly specified.\n"
     ]
    }
   ]
  },
  {
   "cell_type": "markdown",
   "source": [
    "The regression output shows the results of a linear regression model that aims to predict the return (RET) of companies based on their industry sectors. The model uses dummy variables to represent the different industry sectors, and it excludes one reference sector to avoid multicollinearity.\n",
    "\n",
    "The R-squared value of the model is 0.148, indicating that only 14.8% of the variation in the dependent variable is explained by the independent variables. The adjusted R-squared value is slightly lower, which suggests that the model might be overfitting the data.\n",
    "\n",
    "Some of the coefficients have p-values higher than 0.05, indicating that they are not statistically significant. In particular, the coefficient for sector_50.0 has a p-value of 0.190, which suggests that it is not a good predictor of the dependent variable.\n",
    "\n",
    "The coefficient for the reference sector (sector_20.0) is not shown in the output, as it was excluded from the model. The constant term is also included in the model, with a coefficient of 0.0004. Overall, the model suggests that the industry sectors of companies have a significant but relatively weak relationship with their returns.\n",
    "\n",
    "\n",
    "\n"
   ],
   "metadata": {
    "id": "lhhhJc-vEhTK",
    "pycharm": {
     "name": "#%% md\n"
    }
   }
  },
  {
   "cell_type": "markdown",
   "source": [
    "### 2001- Conclusion "
   ],
   "metadata": {
    "id": "sIr8hTlxDqai",
    "pycharm": {
     "name": "#%% md\n"
    }
   }
  },
  {
   "cell_type": "markdown",
   "source": [
    "**`Therefore, the risk exposures explain the most variance in the stock returns with an explnantory power of 33.7%`**"
   ],
   "metadata": {
    "id": "R0w_5kPXHDz2",
    "pycharm": {
     "name": "#%% md\n"
    }
   }
  },
  {
   "cell_type": "markdown",
   "source": [
    "# Great Recession and Financial Crisis"
   ],
   "metadata": {
    "id": "vwZjK_w2C_e4",
    "pycharm": {
     "name": "#%% md\n"
    }
   }
  },
  {
   "cell_type": "markdown",
   "source": [
    "The Great Recession of 2008 was a severe economic downturn that lasted from late 2007 to mid-2009, triggered by a collapse in the housing market and the subprime mortgage industry in the United States. It caused widespread job losses, foreclosures, and a significant decline in economic activity across the globe, leading to a financial crisis that affected the banking sector and financial markets worldwide. The recession had a lasting impact on many economies and societies, and policymakers implemented a range of measures to prevent another such event from occurring."
   ],
   "metadata": {
    "id": "Y6S6XorE5L01",
    "pycharm": {
     "name": "#%% md\n"
    }
   }
  },
  {
   "cell_type": "markdown",
   "source": [
    "### Merging the three files together "
   ],
   "metadata": {
    "id": "qJLrvUVbCWo_",
    "pycharm": {
     "name": "#%% md\n"
    }
   }
  },
  {
   "cell_type": "markdown",
   "source": [
    "## Run OLS regression with the following three main categories \n",
    "\n",
    "\n",
    "1.   **Risk Exposures:** This included systematic risk (market risk), SML (Small Minus Big), which is the size risk, and HML (High minus Low), which is the Value vs Growth risk. \n",
    "\n",
    "2.   **Financial Ratios:** This includes various financial ratios, including but not limited to Liquidity, Leverage, Asset Turnover Ratio, Net and Gross Profit Margin, ROE and ROA. \n",
    "\n",
    "3.   **Industry Indicators:** This indicates which industries had the highest amount of affect on stock returns. \n",
    "\n"
   ],
   "metadata": {
    "id": "3TGaJmCjclF8",
    "pycharm": {
     "name": "#%% md\n"
    }
   }
  },
  {
   "cell_type": "code",
   "source": [
    "# Renaming tic to TICKER in the gsector file\n",
    "gsector_2008 = gsector_2008.rename(columns={'tic': 'TICKER'})"
   ],
   "metadata": {
    "id": "bzSFNNBKCZQE",
    "pycharm": {
     "name": "#%%\n"
    }
   },
   "execution_count": 116,
   "outputs": []
  },
  {
   "cell_type": "code",
   "source": [
    "# Merge the DataFrames based on the 'TICKER' column\n",
    "merged_df_2008 = pd.merge(gsector_2008, ratios_2008, on='TICKER')\n",
    "merged_df_2008 = pd.merge(merged_df_2008, ff_2008, on='TICKER')"
   ],
   "metadata": {
    "id": "bXvMv5H6Ca7Q",
    "pycharm": {
     "name": "#%%\n"
    }
   },
   "execution_count": 117,
   "outputs": []
  },
  {
   "cell_type": "code",
   "source": [
    "merged_df_2008.info()"
   ],
   "metadata": {
    "colab": {
     "base_uri": "https://localhost:8080/"
    },
    "id": "TCUor_PrCi8y",
    "outputId": "6c42366f-5904-40d2-f161-2f6bf3b13178",
    "pycharm": {
     "name": "#%%\n"
    }
   },
   "execution_count": 118,
   "outputs": [
    {
     "output_type": "stream",
     "name": "stdout",
     "text": [
      "<class 'pandas.core.frame.DataFrame'>\n",
      "Int64Index: 2440 entries, 0 to 2439\n",
      "Data columns (total 38 columns):\n",
      " #   Column                Non-Null Count  Dtype  \n",
      "---  ------                --------------  -----  \n",
      " 0   gvkey_x               2440 non-null   int64  \n",
      " 1   fyear_x               2440 non-null   int64  \n",
      " 2   TICKER                2440 non-null   object \n",
      " 3   gsector               2440 non-null   float64\n",
      " 4   gvkey_y               2440 non-null   int64  \n",
      " 5   datadate              2440 non-null   object \n",
      " 6   fyear_y               2440 non-null   int64  \n",
      " 7   indfmt                2440 non-null   object \n",
      " 8   consol                2440 non-null   object \n",
      " 9   popsrc                2440 non-null   object \n",
      " 10  datafmt               2440 non-null   object \n",
      " 11  curcd                 2440 non-null   object \n",
      " 12  act                   2440 non-null   float64\n",
      " 13  at                    2440 non-null   float64\n",
      " 14  che                   2440 non-null   float64\n",
      " 15  cogs                  2440 non-null   float64\n",
      " 16  dltt                  2440 non-null   float64\n",
      " 17  lct                   2440 non-null   float64\n",
      " 18  lt                    2440 non-null   float64\n",
      " 19  ni                    2440 non-null   float64\n",
      " 20  re                    2440 non-null   float64\n",
      " 21  sale                  2440 non-null   float64\n",
      " 22  costat                2440 non-null   object \n",
      " 23  RET                   2440 non-null   float64\n",
      " 24  Net Profit Margin     2440 non-null   float64\n",
      " 25  Gross Profit Margin   2440 non-null   float64\n",
      " 26  Total Debt/Equity     2440 non-null   float64\n",
      " 27  Return on Equity      2440 non-null   float64\n",
      " 28  Liquidity             2440 non-null   float64\n",
      " 29  ROA                   2440 non-null   float64\n",
      " 30  Debt/Total Assets     2440 non-null   float64\n",
      " 31  Asset Turnover Ratio  2440 non-null   float64\n",
      " 32  at_log                2440 non-null   float64\n",
      " 33  Unnamed: 0            2440 non-null   int64  \n",
      " 34  const                 2440 non-null   float64\n",
      " 35  mktrf                 2440 non-null   float64\n",
      " 36  smb                   2440 non-null   float64\n",
      " 37  hml                   2440 non-null   float64\n",
      "dtypes: float64(25), int64(5), object(8)\n",
      "memory usage: 743.4+ KB\n"
     ]
    }
   ]
  },
  {
   "cell_type": "markdown",
   "source": [
    "#### 2008- Regression 1"
   ],
   "metadata": {
    "id": "Nfc7nlvLaG4t",
    "pycharm": {
     "name": "#%% md\n"
    }
   }
  },
  {
   "cell_type": "markdown",
   "source": [
    "Regression using financial ratios, risk exposures and industry indicators"
   ],
   "metadata": {
    "id": "zgTcfj_iTORI",
    "pycharm": {
     "name": "#%% md\n"
    }
   }
  },
  {
   "cell_type": "code",
   "source": [
    "# General regression code:\n",
    "X1 = merged_df_2008[['Total Debt/Equity', 'ROA',  'Asset Turnover Ratio']]\n",
    "X2 = pd.get_dummies(merged_df_2008['gsector'], prefix='sector')\n",
    "X3 = merged_df_2008[['mktrf', 'smb', 'hml']]\n",
    "\n",
    "X = pd.concat([X1, X2, X3], axis=1)\n",
    "\n",
    "y = merged_df_2008['RET']\n",
    "\n",
    "# Use statsmodels\n",
    "X = sm.add_constant(X) # adding a constant\n",
    "model = sm.OLS(y, X).fit()\n",
    "\n",
    "# list regression output\n",
    "print(model.summary())"
   ],
   "metadata": {
    "colab": {
     "base_uri": "https://localhost:8080/"
    },
    "id": "cCLq1rRvawRA",
    "outputId": "88ab7726-6dd2-43f5-aecc-e3c3d66cc2e6",
    "pycharm": {
     "name": "#%%\n"
    }
   },
   "execution_count": 119,
   "outputs": [
    {
     "output_type": "stream",
     "name": "stdout",
     "text": [
      "                            OLS Regression Results                            \n",
      "==============================================================================\n",
      "Dep. Variable:                    RET   R-squared:                       0.698\n",
      "Model:                            OLS   Adj. R-squared:                  0.696\n",
      "Method:                 Least Squares   F-statistic:                     350.8\n",
      "Date:                Sat, 06 May 2023   Prob (F-statistic):               0.00\n",
      "Time:                        12:27:42   Log-Likelihood:                 3446.3\n",
      "No. Observations:                2440   AIC:                            -6859.\n",
      "Df Residuals:                    2423   BIC:                            -6760.\n",
      "Df Model:                          16                                         \n",
      "Covariance Type:            nonrobust                                         \n",
      "========================================================================================\n",
      "                           coef    std err          t      P>|t|      [0.025      0.975]\n",
      "----------------------------------------------------------------------------------------\n",
      "const                    0.0156      0.003      4.883      0.000       0.009       0.022\n",
      "Total Debt/Equity       -0.0001      0.000     -0.328      0.743      -0.001       0.001\n",
      "ROA                      0.0512      0.009      5.783      0.000       0.034       0.069\n",
      "Asset Turnover Ratio    -0.0017      0.002     -0.863      0.388      -0.006       0.002\n",
      "sector_10.0             -0.0392      0.005     -7.901      0.000      -0.049      -0.029\n",
      "sector_15.0             -0.0044      0.005     -0.861      0.389      -0.014       0.006\n",
      "sector_20.0              0.0019      0.004      0.538      0.591      -0.005       0.009\n",
      "sector_25.0              0.0018      0.004      0.470      0.638      -0.006       0.009\n",
      "sector_30.0              0.0062      0.006      1.074      0.283      -0.005       0.017\n",
      "sector_35.0             -0.0014      0.004     -0.403      0.687      -0.008       0.006\n",
      "sector_40.0              0.0189      0.004      4.744      0.000       0.011       0.027\n",
      "sector_45.0              0.0012      0.003      0.373      0.709      -0.005       0.007\n",
      "sector_50.0              0.0058      0.007      0.856      0.392      -0.007       0.019\n",
      "sector_55.0              0.0155      0.006      2.433      0.015       0.003       0.028\n",
      "sector_60.0              0.0094      0.006      1.531      0.126      -0.003       0.021\n",
      "mktrf                   -0.1322      0.002    -65.514      0.000      -0.136      -0.128\n",
      "smb                     -0.0200      0.001    -15.081      0.000      -0.023      -0.017\n",
      "hml                     -0.0173      0.001    -13.158      0.000      -0.020      -0.015\n",
      "==============================================================================\n",
      "Omnibus:                      146.830   Durbin-Watson:                   1.974\n",
      "Prob(Omnibus):                  0.000   Jarque-Bera (JB):              627.175\n",
      "Skew:                           0.021   Prob(JB):                    6.47e-137\n",
      "Kurtosis:                       5.483   Cond. No.                     2.27e+16\n",
      "==============================================================================\n",
      "\n",
      "Notes:\n",
      "[1] Standard Errors assume that the covariance matrix of the errors is correctly specified.\n",
      "[2] The smallest eigenvalue is 1.27e-28. This might indicate that there are\n",
      "strong multicollinearity problems or that the design matrix is singular.\n"
     ]
    }
   ]
  },
  {
   "cell_type": "markdown",
   "source": [
    "The OLS regression model examines the relationship between stock returns (RET) and various independent variables, including financial ratios and sector dummies. The model's R-squared value indicates that about 69.8% of the variation in the dependent variable is explained by the model, with an adjusted R-squared of 69.6%. The coefficients of the independent variables show that only ROA, sector_10.0, sector_40.0, sector_55.0, mktrf, smb, and hml have statistically significant impacts on stock returns. The model may suffer from multicollinearity and singularity issues, indicating a need for further analysis as done below."
   ],
   "metadata": {
    "id": "NIMftlsW5Jmu",
    "pycharm": {
     "name": "#%% md\n"
    }
   }
  },
  {
   "cell_type": "markdown",
   "source": [
    "#### 2008- Regression 2"
   ],
   "metadata": {
    "id": "YCnV6RUZaO5b",
    "pycharm": {
     "name": "#%% md\n"
    }
   }
  },
  {
   "cell_type": "markdown",
   "source": [
    "Regression using financial ratios and industry indicators"
   ],
   "metadata": {
    "id": "oAgstWJlTToL",
    "pycharm": {
     "name": "#%% md\n"
    }
   }
  },
  {
   "cell_type": "code",
   "source": [
    "# General regression code:\n",
    "X1 = merged_df_2008[['Total Debt/Equity', 'ROA',  'Asset Turnover Ratio']]\n",
    "X2 = pd.get_dummies(merged_df_2008['gsector'], prefix='sector')\n",
    "\n",
    "X = pd.concat([X1, X2], axis=1)\n",
    "\n",
    "y = merged_df_2008['RET']\n",
    "\n",
    "# Use statsmodels\n",
    "X = sm.add_constant(X) # adding a constant\n",
    "model = sm.OLS(y, X).fit()\n",
    "\n",
    "# list regression output\n",
    "print(model.summary())"
   ],
   "metadata": {
    "colab": {
     "base_uri": "https://localhost:8080/"
    },
    "id": "FPJu65iYb0p2",
    "outputId": "39ec8fe6-941c-4683-83f2-4ba374080313",
    "pycharm": {
     "name": "#%%\n"
    }
   },
   "execution_count": 120,
   "outputs": [
    {
     "output_type": "stream",
     "name": "stdout",
     "text": [
      "                            OLS Regression Results                            \n",
      "==============================================================================\n",
      "Dep. Variable:                    RET   R-squared:                       0.130\n",
      "Model:                            OLS   Adj. R-squared:                  0.126\n",
      "Method:                 Least Squares   F-statistic:                     27.95\n",
      "Date:                Sat, 06 May 2023   Prob (F-statistic):           1.38e-64\n",
      "Time:                        12:27:42   Log-Likelihood:                 2153.9\n",
      "No. Observations:                2440   AIC:                            -4280.\n",
      "Df Residuals:                    2426   BIC:                            -4199.\n",
      "Df Model:                          13                                         \n",
      "Covariance Type:            nonrobust                                         \n",
      "========================================================================================\n",
      "                           coef    std err          t      P>|t|      [0.025      0.975]\n",
      "----------------------------------------------------------------------------------------\n",
      "const                   -0.1292      0.004    -34.013      0.000      -0.137      -0.122\n",
      "Total Debt/Equity     8.641e-05      0.001      0.135      0.893      -0.001       0.001\n",
      "ROA                      0.1095      0.015      7.379      0.000       0.080       0.139\n",
      "Asset Turnover Ratio    -0.0016      0.003     -0.468      0.640      -0.008       0.005\n",
      "sector_10.0             -0.0624      0.008     -7.503      0.000      -0.079      -0.046\n",
      "sector_15.0             -0.0381      0.009     -4.448      0.000      -0.055      -0.021\n",
      "sector_20.0             -0.0222      0.006     -3.794      0.000      -0.034      -0.011\n",
      "sector_25.0             -0.0351      0.006     -5.648      0.000      -0.047      -0.023\n",
      "sector_30.0              0.0321      0.010      3.310      0.001       0.013       0.051\n",
      "sector_35.0             -0.0034      0.006     -0.558      0.577      -0.015       0.008\n",
      "sector_40.0              0.0404      0.007      6.167      0.000       0.028       0.053\n",
      "sector_45.0             -0.0387      0.005     -7.645      0.000      -0.049      -0.029\n",
      "sector_50.0             -0.0387      0.011     -3.380      0.001      -0.061      -0.016\n",
      "sector_55.0              0.0698      0.011      6.531      0.000       0.049       0.091\n",
      "sector_60.0             -0.0329      0.010     -3.228      0.001      -0.053      -0.013\n",
      "==============================================================================\n",
      "Omnibus:                      146.074   Durbin-Watson:                   1.955\n",
      "Prob(Omnibus):                  0.000   Jarque-Bera (JB):              602.311\n",
      "Skew:                          -0.083   Prob(JB):                    1.62e-131\n",
      "Kurtosis:                       5.428   Cond. No.                     1.86e+16\n",
      "==============================================================================\n",
      "\n",
      "Notes:\n",
      "[1] Standard Errors assume that the covariance matrix of the errors is correctly specified.\n",
      "[2] The smallest eigenvalue is 1.86e-28. This might indicate that there are\n",
      "strong multicollinearity problems or that the design matrix is singular.\n"
     ]
    }
   ]
  },
  {
   "cell_type": "markdown",
   "source": [
    "This is the output of a multiple linear regression analysis where the dependent variable is RET (return) and 13 independent variables have been used in the model. \n",
    "\n",
    "The adjusted R-squared value for the model is 0.126, indicating that approximately 13% of the variation in the dependent variable can be explained by the independent variables included in the model. The adjusted R-squared value takes into account the number of independent variables in the model and adjusts the R-squared value accordingly. In this case, the adjusted R-squared value is slightly lower than the R-squared value of 0.130, which is the proportion of the variation in the dependent variable explained by the model.\n",
    "\n",
    "Based on the output, it appears that Total Debt/Equity and Asset Turnover Ratio are not statistically significant as their p-values are greater than 0.05. The other 11 independent variables, including ROA (return on assets) and the sector variables, appear to be statistically significant in explaining the variation in the dependent variable.\n",
    "\n",
    "The significantly low R-Squared suggests that most variability in the data was explained by the risk exposures."
   ],
   "metadata": {
    "id": "O-GWBILv6Fab",
    "pycharm": {
     "name": "#%% md\n"
    }
   }
  },
  {
   "cell_type": "markdown",
   "source": [
    "#### 2001- Regression 3"
   ],
   "metadata": {
    "id": "O7xP3i65aQGS",
    "pycharm": {
     "name": "#%% md\n"
    }
   }
  },
  {
   "cell_type": "markdown",
   "source": [
    "Regression using only financial ratios and risk exposure"
   ],
   "metadata": {
    "id": "jyE1ri5gTdZX",
    "pycharm": {
     "name": "#%% md\n"
    }
   }
  },
  {
   "cell_type": "code",
   "source": [
    "# General regression code:\n",
    "X1 = merged_df_2008[['Total Debt/Equity', 'ROA',  'Asset Turnover Ratio']]\n",
    "X2 = merged_df_2008[['mktrf', 'smb', 'hml']]\n",
    "\n",
    "X = pd.concat([X1, X2], axis=1)\n",
    "\n",
    "y = merged_df_2008['RET']\n",
    "\n",
    "# Use statsmodels\n",
    "X = sm.add_constant(X) # adding a constant\n",
    "model = sm.OLS(y, X).fit()\n",
    "\n",
    "# list regression output\n",
    "print(model.summary())"
   ],
   "metadata": {
    "colab": {
     "base_uri": "https://localhost:8080/"
    },
    "id": "V98HKp-OcGdq",
    "outputId": "1686dfda-24a1-45db-9c6c-fe2e81d820d4",
    "pycharm": {
     "name": "#%%\n"
    }
   },
   "execution_count": 121,
   "outputs": [
    {
     "output_type": "stream",
     "name": "stdout",
     "text": [
      "                            OLS Regression Results                            \n",
      "==============================================================================\n",
      "Dep. Variable:                    RET   R-squared:                       0.688\n",
      "Model:                            OLS   Adj. R-squared:                  0.687\n",
      "Method:                 Least Squares   F-statistic:                     893.5\n",
      "Date:                Sat, 06 May 2023   Prob (F-statistic):               0.00\n",
      "Time:                        12:27:42   Log-Likelihood:                 3404.0\n",
      "No. Observations:                2440   AIC:                            -6794.\n",
      "Df Residuals:                    2433   BIC:                            -6753.\n",
      "Df Model:                           6                                         \n",
      "Covariance Type:            nonrobust                                         \n",
      "========================================================================================\n",
      "                           coef    std err          t      P>|t|      [0.025      0.975]\n",
      "----------------------------------------------------------------------------------------\n",
      "const                    0.0208      0.003      6.271      0.000       0.014       0.027\n",
      "Total Debt/Equity        0.0008      0.000      2.499      0.013       0.000       0.001\n",
      "ROA                      0.0452      0.009      5.242      0.000       0.028       0.062\n",
      "Asset Turnover Ratio    -0.0039      0.002     -2.220      0.026      -0.007      -0.000\n",
      "mktrf                   -0.1348      0.002    -69.398      0.000      -0.139      -0.131\n",
      "smb                     -0.0208      0.001    -15.912      0.000      -0.023      -0.018\n",
      "hml                     -0.0151      0.001    -12.209      0.000      -0.018      -0.013\n",
      "==============================================================================\n",
      "Omnibus:                      161.737   Durbin-Watson:                   1.964\n",
      "Prob(Omnibus):                  0.000   Jarque-Bera (JB):              745.617\n",
      "Skew:                          -0.067   Prob(JB):                    1.23e-162\n",
      "Kurtosis:                       5.705   Cond. No.                         36.6\n",
      "==============================================================================\n",
      "\n",
      "Notes:\n",
      "[1] Standard Errors assume that the covariance matrix of the errors is correctly specified.\n"
     ]
    }
   ]
  },
  {
   "cell_type": "markdown",
   "source": [
    "This is the output of an Ordinary Least Squares (OLS) regression model with a dependent variable 'RET' (which stands for Return) and six independent variables: Total Debt/Equity, ROA, Asset Turnover Ratio, mktrf, smb, and hml. The model has been estimated using 2,440 observations. The model has an R-squared value of 0.688, indicating that the independent variables explain 68.8% of the variation in the dependent variable, with an adjusted R-Squared of 68.7%, indicating that there is no overfitting. All independent variables except Total Debt/Equity are statistically significant at a 5% level of significance. "
   ],
   "metadata": {
    "id": "Ui9DFNFx6TGz",
    "pycharm": {
     "name": "#%% md\n"
    }
   }
  },
  {
   "cell_type": "markdown",
   "source": [
    "#### 2008- Regression 4"
   ],
   "metadata": {
    "id": "b7AaBUMEaRek",
    "pycharm": {
     "name": "#%% md\n"
    }
   }
  },
  {
   "cell_type": "markdown",
   "source": [
    "Regression using only risk exposure"
   ],
   "metadata": {
    "id": "KhyVoEmfTe2n",
    "pycharm": {
     "name": "#%% md\n"
    }
   }
  },
  {
   "cell_type": "code",
   "source": [
    "#General regression code:\n",
    "X = merged_df_2008[['mktrf', 'smb', 'hml']]\n",
    "y = merged_df_2008['RET']\n",
    "# Use statsmodels\n",
    "X = sm.add_constant(X) # adding a constant\n",
    "model = sm.OLS(y, X).fit()\n",
    "\n",
    "#list regression output\n",
    "print(model.summary())"
   ],
   "metadata": {
    "colab": {
     "base_uri": "https://localhost:8080/"
    },
    "id": "6oL0GAZocS3f",
    "outputId": "f4f838df-16b7-481b-d6cd-80f5975b8ba3",
    "pycharm": {
     "name": "#%%\n"
    }
   },
   "execution_count": 122,
   "outputs": [
    {
     "output_type": "stream",
     "name": "stdout",
     "text": [
      "                            OLS Regression Results                            \n",
      "==============================================================================\n",
      "Dep. Variable:                    RET   R-squared:                       0.683\n",
      "Model:                            OLS   Adj. R-squared:                  0.683\n",
      "Method:                 Least Squares   F-statistic:                     1749.\n",
      "Date:                Sat, 06 May 2023   Prob (F-statistic):               0.00\n",
      "Time:                        12:27:42   Log-Likelihood:                 3385.0\n",
      "No. Observations:                2440   AIC:                            -6762.\n",
      "Df Residuals:                    2436   BIC:                            -6739.\n",
      "Df Model:                           3                                         \n",
      "Covariance Type:            nonrobust                                         \n",
      "==============================================================================\n",
      "                 coef    std err          t      P>|t|      [0.025      0.975]\n",
      "------------------------------------------------------------------------------\n",
      "const          0.0239      0.003      9.171      0.000       0.019       0.029\n",
      "mktrf         -0.1369      0.002    -71.477      0.000      -0.141      -0.133\n",
      "smb           -0.0227      0.001    -17.874      0.000      -0.025      -0.020\n",
      "hml           -0.0143      0.001    -11.768      0.000      -0.017      -0.012\n",
      "==============================================================================\n",
      "Omnibus:                      161.365   Durbin-Watson:                   1.952\n",
      "Prob(Omnibus):                  0.000   Jarque-Bera (JB):              703.512\n",
      "Skew:                          -0.127   Prob(JB):                    1.72e-153\n",
      "Kurtosis:                       5.618   Cond. No.                         4.33\n",
      "==============================================================================\n",
      "\n",
      "Notes:\n",
      "[1] Standard Errors assume that the covariance matrix of the errors is correctly specified.\n"
     ]
    }
   ]
  },
  {
   "cell_type": "markdown",
   "source": [
    "In order to further understand the impact of risk exposures, the below above model is analyzed.\n",
    "\n",
    "In this multiple linear regression model, the dependent variable is RET (stock returns) with six independent variables: Total Debt/Equity, ROA (return on assets), Asset Turnover Ratio, mktrf (systematic risk), smb (small minus big firms), and hml (high minus low book-to-market ratio firms).\n",
    "\n",
    "Ths previous model showed that all six independent variables were statistically significant in predicting the dependent variable. The R-squared value was 0.688, which means that 68.8% of the variation in the dependent variable was explained by the independent variables.\n",
    "\n",
    "This model shows a simplified version of the previous model, with only three independent variables: mktrf, smb, and hml. These three variables are also statistically significant in predicting the dependent variable. The R-squared value is 0.683, which means that 68.3% of the variation in the dependent variable is explained solely by the risk exposures."
   ],
   "metadata": {
    "id": "CWKcj_oU7Slm",
    "pycharm": {
     "name": "#%% md\n"
    }
   }
  },
  {
   "cell_type": "markdown",
   "source": [
    "#### 2008- Regression 5"
   ],
   "metadata": {
    "id": "imT0NXDvaS4Z",
    "pycharm": {
     "name": "#%% md\n"
    }
   }
  },
  {
   "cell_type": "markdown",
   "source": [
    "Regression with industry sectors"
   ],
   "metadata": {
    "id": "G9UWGwfoF-2N",
    "pycharm": {
     "name": "#%% md\n"
    }
   }
  },
  {
   "cell_type": "code",
   "source": [
    "X_all_sectors = pd.get_dummies(merged_df_2008['gsector'], prefix='sector')\n",
    "y = merged_df_2008['RET']\n",
    "# Perform the regression using statsmodels\n",
    "model_all_sectors = sm.OLS(y, X_all_sectors).fit()\n",
    "\n",
    "# Identify the industry with the coefficient value closest to zero\n",
    "reference_sector = model_all_sectors.params.abs().idxmin()\n",
    "\n",
    "print(reference_sector)"
   ],
   "metadata": {
    "colab": {
     "base_uri": "https://localhost:8080/"
    },
    "id": "3Y7hfzsaEG6f",
    "outputId": "0731b5a7-8aee-40e9-c5c8-49153c6192f9",
    "pycharm": {
     "name": "#%%\n"
    }
   },
   "execution_count": 142,
   "outputs": [
    {
     "output_type": "stream",
     "name": "stdout",
     "text": [
      "sector_55.0\n"
     ]
    }
   ]
  },
  {
   "cell_type": "code",
   "source": [
    "# Create dummy variables for the industry sectors\n",
    "X_all_sectors = pd.get_dummies(merged_df_2008['gsector'], prefix='sector')\n",
    "y = merged_df_2008['RET']\n",
    "\n",
    "# Exclude the reference sector's dummy variable from the independent variables\n",
    "X = X_all_sectors.drop(columns=[reference_sector])\n",
    "\n",
    "# Add a constant to the independent variables\n",
    "X = sm.add_constant(X)\n",
    "\n",
    "# Perform the regression using statsmodels without the reference sector's dummy variable\n",
    "model_5 = sm.OLS(y, X).fit()\n",
    "\n",
    "# Print the regression output\n",
    "print(model_5.summary())"
   ],
   "metadata": {
    "colab": {
     "base_uri": "https://localhost:8080/"
    },
    "id": "NqVF3kNl8Gad",
    "outputId": "c1f363a7-679c-47c0-e6f3-a8cc4d9fc9c9",
    "pycharm": {
     "name": "#%%\n"
    }
   },
   "execution_count": 143,
   "outputs": [
    {
     "output_type": "stream",
     "name": "stdout",
     "text": [
      "                            OLS Regression Results                            \n",
      "==============================================================================\n",
      "Dep. Variable:                    RET   R-squared:                       0.110\n",
      "Model:                            OLS   Adj. R-squared:                  0.107\n",
      "Method:                 Least Squares   F-statistic:                     30.15\n",
      "Date:                Sat, 06 May 2023   Prob (F-statistic):           2.70e-55\n",
      "Time:                        12:37:00   Log-Likelihood:                 2126.4\n",
      "No. Observations:                2440   AIC:                            -4231.\n",
      "Df Residuals:                    2429   BIC:                            -4167.\n",
      "Df Model:                          10                                         \n",
      "Covariance Type:            nonrobust                                         \n",
      "===============================================================================\n",
      "                  coef    std err          t      P>|t|      [0.025      0.975]\n",
      "-------------------------------------------------------------------------------\n",
      "const          -0.0565      0.011     -4.922      0.000      -0.079      -0.034\n",
      "sector_10.0    -0.1251      0.014     -8.661      0.000      -0.153      -0.097\n",
      "sector_15.0    -0.1049      0.015     -7.167      0.000      -0.134      -0.076\n",
      "sector_20.0    -0.0903      0.013     -7.051      0.000      -0.115      -0.065\n",
      "sector_25.0    -0.1067      0.013     -8.239      0.000      -0.132      -0.081\n",
      "sector_30.0    -0.0359      0.015     -2.368      0.018      -0.066      -0.006\n",
      "sector_35.0    -0.0846      0.013     -6.553      0.000      -0.110      -0.059\n",
      "sector_40.0    -0.0298      0.012     -2.411      0.016      -0.054      -0.006\n",
      "sector_45.0    -0.1128      0.012     -9.055      0.000      -0.137      -0.088\n",
      "sector_50.0    -0.1077      0.017     -6.374      0.000      -0.141      -0.075\n",
      "sector_60.0    -0.1014      0.016     -6.444      0.000      -0.132      -0.071\n",
      "==============================================================================\n",
      "Omnibus:                      140.013   Durbin-Watson:                   1.939\n",
      "Prob(Omnibus):                  0.000   Jarque-Bera (JB):              488.539\n",
      "Skew:                          -0.182   Prob(JB):                    8.22e-107\n",
      "Kurtosis:                       5.162   Cond. No.                         20.2\n",
      "==============================================================================\n",
      "\n",
      "Notes:\n",
      "[1] Standard Errors assume that the covariance matrix of the errors is correctly specified.\n"
     ]
    }
   ]
  },
  {
   "cell_type": "markdown",
   "source": [
    "The regression output shows the results of the OLS regression model that predicts the returns of companies based on their industry sectors. The R-squared value of the model is 0.110, which means that 11% of the variance in the dependent variable (RET) is explained by the independent variables (the dummy variables for industry sectors).\n",
    "\n",
    "The coefficients for each industry sector are negative, which means that, on average, companies in these sectors have lower returns than the reference sector (which is not included in the model).\n",
    "\n",
    "The reference sector (secotr 55) is not explicitly mentioned in the output, but it can be inferred from the fact that one dummy variable is excluded from the model. The reference sector is the industry sector that has the coefficient value closest to zero.\n",
    "\n",
    "The coefficients of the different sectors indicate how much the return of a company is affected by the sector it belongs to, compared to the reference sector. For example, companies in sector 10.0, which is the energy sector, have returns that are 0.1251 lower, on average, than the reference sector, which is Utilities. Similarly, companies in Consumer Discretionary sector (25.0) have returns that are 0.1067 lower, on average, than the reference sector.\n",
    "\n",
    "The intercept coefficient (const) is -0.0565, which means that, on average, a company in the reference sector has a return of -0.0565 when all other independent variables are held constant.\n",
    "\n",
    "Overall, the results suggest that industry sector is a significant predictor of company returns, with different sectors having varying levels of impact on returns."
   ],
   "metadata": {
    "id": "ohLurSO0EmsF",
    "pycharm": {
     "name": "#%% md\n"
    }
   }
  },
  {
   "cell_type": "markdown",
   "source": [
    "### 2001- Conclusion"
   ],
   "metadata": {
    "id": "91_6TYROEUYR",
    "pycharm": {
     "name": "#%% md\n"
    }
   }
  },
  {
   "cell_type": "markdown",
   "source": [
    "**`For the Great Recession of 2008, the most explanatory power is held by the risk exposures.`**"
   ],
   "metadata": {
    "id": "tFdd3V_1GFPx",
    "pycharm": {
     "name": "#%% md\n"
    }
   }
  },
  {
   "cell_type": "markdown",
   "source": [
    "# The Covid Shock "
   ],
   "metadata": {
    "id": "l4K20LhCDHR2",
    "pycharm": {
     "name": "#%% md\n"
    }
   }
  },
  {
   "cell_type": "markdown",
   "source": [
    "The COVID-19 pandemic caused a global stock market crash in 2020, with major indices experiencing significant declines in March. Lockdowns and travel restrictions led to supply chain disruptions and reduced consumer spending, negatively impacting many industries. "
   ],
   "metadata": {
    "id": "01zUP9I18e5s",
    "pycharm": {
     "name": "#%% md\n"
    }
   }
  },
  {
   "cell_type": "markdown",
   "source": [
    "### Merging the three files together "
   ],
   "metadata": {
    "id": "fp7_RCSsCkM8",
    "pycharm": {
     "name": "#%% md\n"
    }
   }
  },
  {
   "cell_type": "code",
   "source": [
    "# Renaming tic to TICKER in the gsector file\n",
    "gsector_2020 = gsector_2020.rename(columns={'tic': 'TICKER'})"
   ],
   "metadata": {
    "id": "oUjTq7mtCm9K",
    "pycharm": {
     "name": "#%%\n"
    }
   },
   "execution_count": 123,
   "outputs": []
  },
  {
   "cell_type": "code",
   "source": [
    "# Merge the DataFrames based on the 'TICKER' column\n",
    "merged_df_2020 = pd.merge(gsector_2020, ratios_2020, on='TICKER')\n",
    "merged_df_2020 = pd.merge(merged_df_2020, ff_2020, on='TICKER')"
   ],
   "metadata": {
    "id": "AmRzfGvPCrig",
    "pycharm": {
     "name": "#%%\n"
    }
   },
   "execution_count": 124,
   "outputs": []
  },
  {
   "cell_type": "code",
   "source": [
    "merged_df_2020.info()"
   ],
   "metadata": {
    "colab": {
     "base_uri": "https://localhost:8080/"
    },
    "id": "8V-x0OtcCxhY",
    "outputId": "bc66b9f0-deda-4d5e-f3ea-a0853a6a5aeb",
    "pycharm": {
     "name": "#%%\n"
    }
   },
   "execution_count": 125,
   "outputs": [
    {
     "output_type": "stream",
     "name": "stdout",
     "text": [
      "<class 'pandas.core.frame.DataFrame'>\n",
      "Int64Index: 2961 entries, 0 to 2960\n",
      "Data columns (total 38 columns):\n",
      " #   Column                Non-Null Count  Dtype  \n",
      "---  ------                --------------  -----  \n",
      " 0   gvkey_x               2961 non-null   int64  \n",
      " 1   fyear_x               2961 non-null   int64  \n",
      " 2   TICKER                2961 non-null   object \n",
      " 3   gsector               2960 non-null   float64\n",
      " 4   gvkey_y               2961 non-null   int64  \n",
      " 5   datadate              2961 non-null   object \n",
      " 6   fyear_y               2961 non-null   int64  \n",
      " 7   indfmt                2961 non-null   object \n",
      " 8   consol                2961 non-null   object \n",
      " 9   popsrc                2961 non-null   object \n",
      " 10  datafmt               2961 non-null   object \n",
      " 11  curcd                 2961 non-null   object \n",
      " 12  act                   2961 non-null   float64\n",
      " 13  at                    2961 non-null   float64\n",
      " 14  che                   2961 non-null   float64\n",
      " 15  cogs                  2961 non-null   float64\n",
      " 16  dltt                  2961 non-null   float64\n",
      " 17  lct                   2961 non-null   float64\n",
      " 18  lt                    2961 non-null   float64\n",
      " 19  ni                    2961 non-null   float64\n",
      " 20  re                    2961 non-null   float64\n",
      " 21  sale                  2961 non-null   float64\n",
      " 22  costat                2961 non-null   object \n",
      " 23  RET                   2961 non-null   float64\n",
      " 24  Net Profit Margin     2961 non-null   float64\n",
      " 25  Gross Profit Margin   2961 non-null   float64\n",
      " 26  Total Debt/Equity     2961 non-null   float64\n",
      " 27  Return on Equity      2961 non-null   float64\n",
      " 28  Liquidity             2961 non-null   float64\n",
      " 29  ROA                   2961 non-null   float64\n",
      " 30  Debt/Total Assets     2961 non-null   float64\n",
      " 31  Asset Turnover Ratio  2961 non-null   float64\n",
      " 32  at_log                2961 non-null   float64\n",
      " 33  Unnamed: 0            2961 non-null   int64  \n",
      " 34  const                 2961 non-null   float64\n",
      " 35  mktrf                 2961 non-null   float64\n",
      " 36  smb                   2961 non-null   float64\n",
      " 37  hml                   2961 non-null   float64\n",
      "dtypes: float64(25), int64(5), object(8)\n",
      "memory usage: 902.2+ KB\n"
     ]
    }
   ]
  },
  {
   "cell_type": "markdown",
   "source": [
    "## Run OLS regression with the following three main categories \n",
    "\n",
    "\n",
    "1.   **Risk Exposures:** This included systematic risk (market risk), SML (Small Minus Big), which is the size risk, and HML (High minus Low), which is the Value vs Growth risk. \n",
    "\n",
    "2.   **Financial Ratios:** This includes various financial ratios, including but not limited to Liquidity, Leverage, Asset Turnover Ratio, Net and Gross Profit Margin, ROE and ROA. \n",
    "\n",
    "3.   **Industry Indicators:** This indicates which industries had the highest amount of affect on stock returns. \n",
    "\n"
   ],
   "metadata": {
    "id": "OHdRD4t3ceq8",
    "pycharm": {
     "name": "#%% md\n"
    }
   }
  },
  {
   "cell_type": "markdown",
   "source": [
    "### 2020- Regression 1"
   ],
   "metadata": {
    "id": "skRoRfbFctiZ",
    "pycharm": {
     "name": "#%% md\n"
    }
   }
  },
  {
   "cell_type": "markdown",
   "source": [
    "Regression with financial ratios, industry indicators and risk exposure"
   ],
   "metadata": {
    "id": "5lNMuUzlTj9r",
    "pycharm": {
     "name": "#%% md\n"
    }
   }
  },
  {
   "cell_type": "code",
   "source": [
    "# General regression code:\n",
    "X1 = merged_df_2020[['Gross Profit Margin', 'Liquidity', 'at_log']]\n",
    "X2 = pd.get_dummies(merged_df_2020['gsector'], prefix='sector')\n",
    "X3 = merged_df_2020[['mktrf', 'smb', 'hml']]\n",
    "\n",
    "X = pd.concat([X1, X2, X3], axis=1)\n",
    "\n",
    "y = merged_df_2020['RET']\n",
    "\n",
    "# Use statsmodels\n",
    "X = sm.add_constant(X) # adding a constant\n",
    "model = sm.OLS(y, X).fit()\n",
    "\n",
    "# list regression output\n",
    "print(model.summary())"
   ],
   "metadata": {
    "colab": {
     "base_uri": "https://localhost:8080/"
    },
    "id": "zODt71ytd-RE",
    "outputId": "ceb991c1-d5d1-4c8d-fa91-e4e57006ec89",
    "pycharm": {
     "name": "#%%\n"
    }
   },
   "execution_count": 126,
   "outputs": [
    {
     "output_type": "stream",
     "name": "stdout",
     "text": [
      "                            OLS Regression Results                            \n",
      "==============================================================================\n",
      "Dep. Variable:                    RET   R-squared:                       0.556\n",
      "Model:                            OLS   Adj. R-squared:                  0.554\n",
      "Method:                 Least Squares   F-statistic:                     217.2\n",
      "Date:                Sat, 06 May 2023   Prob (F-statistic):               0.00\n",
      "Time:                        12:27:42   Log-Likelihood:                 2648.2\n",
      "No. Observations:                2961   AIC:                            -5260.\n",
      "Df Residuals:                    2943   BIC:                            -5153.\n",
      "Df Model:                          17                                         \n",
      "Covariance Type:            nonrobust                                         \n",
      "=======================================================================================\n",
      "                          coef    std err          t      P>|t|      [0.025      0.975]\n",
      "---------------------------------------------------------------------------------------\n",
      "const                  -0.1412      0.100     -1.416      0.157      -0.337       0.054\n",
      "Gross Profit Margin    -0.0001      0.000     -0.362      0.717      -0.001       0.001\n",
      "Liquidity              -0.0001      0.001     -0.125      0.901      -0.002       0.002\n",
      "at_log                  0.0016      0.001      1.621      0.105      -0.000       0.003\n",
      "sector_10.0             0.1460      0.100      1.468      0.142      -0.049       0.341\n",
      "sector_15.0             0.1372      0.100      1.379      0.168      -0.058       0.332\n",
      "sector_20.0             0.1429      0.099      1.438      0.150      -0.052       0.338\n",
      "sector_25.0             0.1184      0.099      1.191      0.234      -0.077       0.313\n",
      "sector_30.0             0.1424      0.100      1.429      0.153      -0.053       0.338\n",
      "sector_35.0             0.1662      0.099      1.671      0.095      -0.029       0.361\n",
      "sector_40.0             0.1178      0.099      1.186      0.236      -0.077       0.313\n",
      "sector_45.0             0.1503      0.099      1.512      0.131      -0.045       0.345\n",
      "sector_50.0             0.1294      0.100      1.298      0.194      -0.066       0.325\n",
      "sector_55.0             0.0985      0.100      0.986      0.324      -0.097       0.295\n",
      "sector_60.0             0.0960      0.100      0.964      0.335      -0.099       0.291\n",
      "mktrf                  -0.1298      0.003    -45.836      0.000      -0.135      -0.124\n",
      "smb                    -0.0076      0.002     -3.651      0.000      -0.012      -0.004\n",
      "hml                    -0.0778      0.003    -27.502      0.000      -0.083      -0.072\n",
      "==============================================================================\n",
      "Omnibus:                     4465.985   Durbin-Watson:                   1.964\n",
      "Prob(Omnibus):                  0.000   Jarque-Bera (JB):          5445507.010\n",
      "Skew:                           8.722   Prob(JB):                         0.00\n",
      "Kurtosis:                     212.365   Cond. No.                     1.56e+03\n",
      "==============================================================================\n",
      "\n",
      "Notes:\n",
      "[1] Standard Errors assume that the covariance matrix of the errors is correctly specified.\n",
      "[2] The condition number is large, 1.56e+03. This might indicate that there are\n",
      "strong multicollinearity or other numerical problems.\n"
     ]
    }
   ]
  },
  {
   "cell_type": "markdown",
   "source": [
    "The multiple linear regression model has an adjusted R-squared value of 0.554, indicating that the model explains around 55% of the variance in the dependent variable. Among the independent variables, only mktrf, smb, and hml have p-values less than 0.05, indicating that they are statistically significant predictors of the dependent variable at a 95% confidence level. The coefficients of these variables are negative, indicating that they have a negative effect on the stock returns. The other independent variables, including const, Gross Profit Margin, Liquidity, at_log, and sector variables, are not statistically significant at a 95% confidence level.\n",
    "\n",
    "Here we also see that the as risk increased, including market risk, size risk and distress risk, this negatively impacted the stock returns.\n",
    "\n",
    "However, the model also has some potential issues with multicollinearity and numerical problems."
   ],
   "metadata": {
    "id": "R3pEAlL38467",
    "pycharm": {
     "name": "#%% md\n"
    }
   }
  },
  {
   "cell_type": "markdown",
   "source": [
    "### 2020- Regression 2"
   ],
   "metadata": {
    "id": "-Vmb12zOcw5w",
    "pycharm": {
     "name": "#%% md\n"
    }
   }
  },
  {
   "cell_type": "markdown",
   "source": [
    "Regression with financial ratios and industry indicators"
   ],
   "metadata": {
    "id": "NBCrRK2HTrqK",
    "pycharm": {
     "name": "#%% md\n"
    }
   }
  },
  {
   "cell_type": "code",
   "source": [
    "# General regression code:\n",
    "X1 = merged_df_2020[['Gross Profit Margin', 'Liquidity', 'at_log']]\n",
    "X2 = pd.get_dummies(merged_df_2020['gsector'], prefix='sector')\n",
    "\n",
    "X = pd.concat([X1, X2], axis=1)\n",
    "\n",
    "y = merged_df_2020['RET']\n",
    "\n",
    "# Use statsmodels\n",
    "X = sm.add_constant(X) # adding a constant\n",
    "model = sm.OLS(y, X).fit()\n",
    "\n",
    "# list regression output\n",
    "print(model.summary())"
   ],
   "metadata": {
    "colab": {
     "base_uri": "https://localhost:8080/"
    },
    "id": "LoBstgLLd-xW",
    "outputId": "5fedeb49-363d-48c3-85f3-1e776d9dd4c9",
    "pycharm": {
     "name": "#%%\n"
    }
   },
   "execution_count": 127,
   "outputs": [
    {
     "output_type": "stream",
     "name": "stdout",
     "text": [
      "                            OLS Regression Results                            \n",
      "==============================================================================\n",
      "Dep. Variable:                    RET   R-squared:                       0.124\n",
      "Model:                            OLS   Adj. R-squared:                  0.120\n",
      "Method:                 Least Squares   F-statistic:                     29.83\n",
      "Date:                Sat, 06 May 2023   Prob (F-statistic):           8.58e-75\n",
      "Time:                        12:27:42   Log-Likelihood:                 1640.9\n",
      "No. Observations:                2961   AIC:                            -3252.\n",
      "Df Residuals:                    2946   BIC:                            -3162.\n",
      "Df Model:                          14                                         \n",
      "Covariance Type:            nonrobust                                         \n",
      "=======================================================================================\n",
      "                          coef    std err          t      P>|t|      [0.025      0.975]\n",
      "---------------------------------------------------------------------------------------\n",
      "const                  -0.3420      0.140     -2.446      0.014      -0.616      -0.068\n",
      "Gross Profit Margin     0.0007      0.001      1.227      0.220      -0.000       0.002\n",
      "Liquidity               0.0050      0.001      3.902      0.000       0.002       0.008\n",
      "at_log                 -0.0020      0.001     -1.541      0.123      -0.005       0.001\n",
      "sector_10.0             0.0764      0.140      0.547      0.585      -0.198       0.350\n",
      "sector_15.0             0.1763      0.140      1.261      0.207      -0.098       0.450\n",
      "sector_20.0             0.1779      0.140      1.275      0.202      -0.096       0.452\n",
      "sector_25.0             0.1317      0.140      0.943      0.346      -0.142       0.405\n",
      "sector_30.0             0.2656      0.140      1.897      0.058      -0.009       0.540\n",
      "sector_35.0             0.2568      0.140      1.840      0.066      -0.017       0.530\n",
      "sector_40.0             0.1799      0.140      1.289      0.197      -0.094       0.453\n",
      "sector_45.0             0.2182      0.140      1.564      0.118      -0.055       0.492\n",
      "sector_50.0             0.2084      0.140      1.489      0.137      -0.066       0.483\n",
      "sector_55.0             0.2536      0.140      1.808      0.071      -0.021       0.529\n",
      "sector_60.0             0.1734      0.140      1.240      0.215      -0.101       0.447\n",
      "==============================================================================\n",
      "Omnibus:                     4539.402   Durbin-Watson:                   1.929\n",
      "Prob(Omnibus):                  0.000   Jarque-Bera (JB):          5883822.268\n",
      "Skew:                           9.007   Prob(JB):                         0.00\n",
      "Kurtosis:                     220.637   Cond. No.                     1.55e+03\n",
      "==============================================================================\n",
      "\n",
      "Notes:\n",
      "[1] Standard Errors assume that the covariance matrix of the errors is correctly specified.\n",
      "[2] The condition number is large, 1.55e+03. This might indicate that there are\n",
      "strong multicollinearity or other numerical problems.\n"
     ]
    }
   ]
  },
  {
   "cell_type": "markdown",
   "source": [
    "This is an OLS regression analysis of the dependent variable RET (stock returns) and 14 independent variables. The adjusted R-squared value is 0.120, which means that the model explains 12% of the variance in the dependent variable after adjusting for the number of independent variables. However, only the independent variables Liquidity and sector_30.0 are significant at a 95% confidence level (P < 0.05), whereas the other independent variables are not significant. There might be some numerical problems or strong multicollinearity in the data, indicated by the large condition number of 1.55e+03.\n",
    "\n",
    "This significanly low explanatory power is a result of removing market, size and distress risk from the regression."
   ],
   "metadata": {
    "id": "rlz2_kxE9zhY",
    "pycharm": {
     "name": "#%% md\n"
    }
   }
  },
  {
   "cell_type": "markdown",
   "source": [
    "### 2020- Regression 3"
   ],
   "metadata": {
    "id": "_9dFsjNRc2RN",
    "pycharm": {
     "name": "#%% md\n"
    }
   }
  },
  {
   "cell_type": "markdown",
   "source": [
    "Regression with financial ratios and risk exposure"
   ],
   "metadata": {
    "id": "VPhyV4TETwY1",
    "pycharm": {
     "name": "#%% md\n"
    }
   }
  },
  {
   "cell_type": "code",
   "source": [
    "# General regression code:\n",
    "X1 = merged_df_2020[['Gross Profit Margin', 'Liquidity', 'at_log']]\n",
    "X2 = merged_df_2020[['mktrf', 'smb', 'hml']]\n",
    "\n",
    "X = pd.concat([X1, X2], axis=1)\n",
    "\n",
    "y = merged_df_2020['RET']\n",
    "\n",
    "# Use statsmodels\n",
    "X = sm.add_constant(X) # adding a constant\n",
    "model = sm.OLS(y, X).fit()\n",
    "\n",
    "# list regression output\n",
    "print(model.summary())"
   ],
   "metadata": {
    "colab": {
     "base_uri": "https://localhost:8080/"
    },
    "id": "7OJQXEWZd_Tk",
    "outputId": "26c6fa5e-9e8c-4143-afba-6d8c8e11a43b",
    "pycharm": {
     "name": "#%%\n"
    }
   },
   "execution_count": 128,
   "outputs": [
    {
     "output_type": "stream",
     "name": "stdout",
     "text": [
      "                            OLS Regression Results                            \n",
      "==============================================================================\n",
      "Dep. Variable:                    RET   R-squared:                       0.542\n",
      "Model:                            OLS   Adj. R-squared:                  0.541\n",
      "Method:                 Least Squares   F-statistic:                     583.2\n",
      "Date:                Sat, 06 May 2023   Prob (F-statistic):               0.00\n",
      "Time:                        12:27:43   Log-Likelihood:                 2601.5\n",
      "No. Observations:                2961   AIC:                            -5189.\n",
      "Df Residuals:                    2954   BIC:                            -5147.\n",
      "Df Model:                           6                                         \n",
      "Covariance Type:            nonrobust                                         \n",
      "=======================================================================================\n",
      "                          coef    std err          t      P>|t|      [0.025      0.975]\n",
      "---------------------------------------------------------------------------------------\n",
      "const                  -0.0036      0.009     -0.386      0.700      -0.022       0.015\n",
      "Gross Profit Margin    -0.0004      0.000     -1.003      0.316      -0.001       0.000\n",
      "Liquidity               0.0013      0.001      1.393      0.164      -0.001       0.003\n",
      "at_log                  0.0002      0.001      0.236      0.814      -0.002       0.002\n",
      "mktrf                  -0.1251      0.003    -47.042      0.000      -0.130      -0.120\n",
      "smb                    -0.0063      0.002     -3.046      0.002      -0.010      -0.002\n",
      "hml                    -0.0842      0.003    -33.077      0.000      -0.089      -0.079\n",
      "==============================================================================\n",
      "Omnibus:                     4454.761   Durbin-Watson:                   1.953\n",
      "Prob(Omnibus):                  0.000   Jarque-Bera (JB):          5375759.179\n",
      "Skew:                           8.680   Prob(JB):                         0.00\n",
      "Kurtosis:                     211.017   Cond. No.                         42.7\n",
      "==============================================================================\n",
      "\n",
      "Notes:\n",
      "[1] Standard Errors assume that the covariance matrix of the errors is correctly specified.\n"
     ]
    }
   ]
  },
  {
   "cell_type": "markdown",
   "source": [
    "This is a linear regression model with a dependent variable RET (stock returns) and six independent variables: Gross Profit Margin, Liquidity, at_log, mktrf, smb, and hml. The model has an R-squared of 0.542, indicating that 54.2% of the variability in the dependent variable is explained by the independent variables. Only the variables mktrf, smb, and hml have statistically significant coefficients at the 5% level. The constant term is not statistically significant.\n",
    "\n",
    "As risk exposures were put back into the regression, the model's explanatory power and improved significantly.\n",
    "\n",
    "\n",
    "\n"
   ],
   "metadata": {
    "id": "_qAITRQz9elB",
    "pycharm": {
     "name": "#%% md\n"
    }
   }
  },
  {
   "cell_type": "markdown",
   "source": [
    "### 2020- Regression 4"
   ],
   "metadata": {
    "id": "GXaK2a3Tc7Bb",
    "pycharm": {
     "name": "#%% md\n"
    }
   }
  },
  {
   "cell_type": "markdown",
   "source": [
    "Regression with only risk exposure"
   ],
   "metadata": {
    "id": "BujDdg_nT0FE",
    "pycharm": {
     "name": "#%% md\n"
    }
   }
  },
  {
   "cell_type": "code",
   "source": [
    "#General regression code:\n",
    "X = merged_df_2020[['mktrf', 'smb', 'hml']]\n",
    "y = merged_df_2020['RET']\n",
    "# Use statsmodels\n",
    "X = sm.add_constant(X) # adding a constant\n",
    "model = sm.OLS(y, X).fit()\n",
    "\n",
    "#list regression output\n",
    "print(model.summary())"
   ],
   "metadata": {
    "colab": {
     "base_uri": "https://localhost:8080/"
    },
    "id": "zsNF3zRId_1-",
    "outputId": "e7993cfc-0685-449f-af1c-58184326b1c5",
    "pycharm": {
     "name": "#%%\n"
    }
   },
   "execution_count": 129,
   "outputs": [
    {
     "output_type": "stream",
     "name": "stdout",
     "text": [
      "                            OLS Regression Results                            \n",
      "==============================================================================\n",
      "Dep. Variable:                    RET   R-squared:                       0.542\n",
      "Model:                            OLS   Adj. R-squared:                  0.541\n",
      "Method:                 Least Squares   F-statistic:                     1165.\n",
      "Date:                Sat, 06 May 2023   Prob (F-statistic):               0.00\n",
      "Time:                        12:27:43   Log-Likelihood:                 2599.8\n",
      "No. Observations:                2961   AIC:                            -5192.\n",
      "Df Residuals:                    2957   BIC:                            -5168.\n",
      "Df Model:                           3                                         \n",
      "Covariance Type:            nonrobust                                         \n",
      "==============================================================================\n",
      "                 coef    std err          t      P>|t|      [0.025      0.975]\n",
      "------------------------------------------------------------------------------\n",
      "const          0.0012      0.004      0.318      0.751      -0.006       0.008\n",
      "mktrf         -0.1252      0.003    -47.482      0.000      -0.130      -0.120\n",
      "smb           -0.0059      0.002     -2.999      0.003      -0.010      -0.002\n",
      "hml           -0.0852      0.002    -35.061      0.000      -0.090      -0.080\n",
      "==============================================================================\n",
      "Omnibus:                     4439.223   Durbin-Watson:                   1.952\n",
      "Prob(Omnibus):                  0.000   Jarque-Bera (JB):          5268487.010\n",
      "Skew:                           8.622   Prob(JB):                         0.00\n",
      "Kurtosis:                     208.926   Cond. No.                         4.13\n",
      "==============================================================================\n",
      "\n",
      "Notes:\n",
      "[1] Standard Errors assume that the covariance matrix of the errors is correctly specified.\n"
     ]
    }
   ]
  },
  {
   "cell_type": "markdown",
   "source": [
    "The OLS regression model has an R-squared of 0.542, indicating that the model explains 54.2% of the variability in the dependent variable. The coefficients for Gross Profit Margin and Liquidity are not statistically significant at a 5% level. The final model includes the market factor (mktrf), size factor (smb), and value factor (hml), which are all statistically significant at a 5% level. The adjusted R-squared is 0.541, indicating that the model has a good fit. The model is also free from multicollinearity issues as evidenced by the low condition number.\n",
    "\n",
    "It is also important to note the inverse relationship between risk exposures and stock returns."
   ],
   "metadata": {
    "id": "g_KStZ-e-vBk",
    "pycharm": {
     "name": "#%% md\n"
    }
   }
  },
  {
   "cell_type": "markdown",
   "source": [
    "### 2020- Regression 5"
   ],
   "metadata": {
    "id": "LpdcAc_lc_aH",
    "pycharm": {
     "name": "#%% md\n"
    }
   }
  },
  {
   "cell_type": "markdown",
   "source": [
    "Regression with only industry indicators"
   ],
   "metadata": {
    "id": "-CAv8eJYT3BW",
    "pycharm": {
     "name": "#%% md\n"
    }
   }
  },
  {
   "cell_type": "code",
   "source": [
    "X_all_sectors = pd.get_dummies(merged_df_2020['gsector'], prefix='sector')\n",
    "y = merged_df_2020['RET']\n",
    "# Perform the regression using statsmodels\n",
    "model_all_sectors = sm.OLS(y, X_all_sectors).fit()\n",
    "\n",
    "# Identify the industry with the coefficient value closest to zero\n",
    "reference_sector = model_all_sectors.params.abs().idxmin()\n",
    "\n",
    "print(reference_sector)"
   ],
   "metadata": {
    "colab": {
     "base_uri": "https://localhost:8080/"
    },
    "id": "LVM24IuZ_Hnj",
    "outputId": "a28ce82f-8802-4c7d-b141-9f68ed4efb63",
    "pycharm": {
     "name": "#%%\n"
    }
   },
   "execution_count": 151,
   "outputs": [
    {
     "output_type": "stream",
     "name": "stdout",
     "text": [
      "sector_35.0\n"
     ]
    }
   ]
  },
  {
   "cell_type": "code",
   "source": [
    "# Create dummy variables for the industry sectors\n",
    "X_all_sectors = pd.get_dummies(merged_df_2020['gsector'], prefix='sector')\n",
    "y = merged_df_2020['RET']\n",
    "\n",
    "# Exclude the reference sector's dummy variable from the independent variables\n",
    "X = X_all_sectors.drop(columns=[reference_sector])\n",
    "\n",
    "# Add a constant to the independent variables\n",
    "X = sm.add_constant(X)\n",
    "\n",
    "# Perform the regression using statsmodels without the reference sector's dummy variable\n",
    "model_5 = sm.OLS(y, X).fit()\n",
    "\n",
    "# Print the regression output\n",
    "print(model_5.summary())"
   ],
   "metadata": {
    "colab": {
     "base_uri": "https://localhost:8080/"
    },
    "id": "XrES3fB5Gzfh",
    "outputId": "928ef29e-b998-45b6-aaeb-4c9b3127abab",
    "pycharm": {
     "name": "#%%\n"
    }
   },
   "execution_count": 153,
   "outputs": [
    {
     "output_type": "stream",
     "name": "stdout",
     "text": [
      "                            OLS Regression Results                            \n",
      "==============================================================================\n",
      "Dep. Variable:                    RET   R-squared:                       0.116\n",
      "Model:                            OLS   Adj. R-squared:                  0.113\n",
      "Method:                 Least Squares   F-statistic:                     38.64\n",
      "Date:                Sat, 06 May 2023   Prob (F-statistic):           5.20e-72\n",
      "Time:                        12:50:31   Log-Likelihood:                 1626.8\n",
      "No. Observations:                2961   AIC:                            -3232.\n",
      "Df Residuals:                    2950   BIC:                            -3166.\n",
      "Df Model:                          10                                         \n",
      "Covariance Type:            nonrobust                                         \n",
      "===============================================================================\n",
      "                  coef    std err          t      P>|t|      [0.025      0.975]\n",
      "-------------------------------------------------------------------------------\n",
      "const          -0.0807      0.007    -11.584      0.000      -0.094      -0.067\n",
      "sector_10.0    -0.1890      0.012    -15.490      0.000      -0.213      -0.165\n",
      "sector_15.0    -0.0876      0.013     -6.819      0.000      -0.113      -0.062\n",
      "sector_20.0    -0.0870      0.010     -9.002      0.000      -0.106      -0.068\n",
      "sector_25.0    -0.1351      0.010    -12.949      0.000      -0.156      -0.115\n",
      "sector_30.0    -0.0010      0.015     -0.069      0.945      -0.030       0.028\n",
      "sector_40.0    -0.0899      0.009     -9.865      0.000      -0.108      -0.072\n",
      "sector_45.0    -0.0424      0.010     -4.238      0.000      -0.062      -0.023\n",
      "sector_50.0    -0.0590      0.015     -4.029      0.000      -0.088      -0.030\n",
      "sector_55.0    -0.0206      0.017     -1.185      0.236      -0.055       0.013\n",
      "sector_60.0    -0.0928      0.013     -7.280      0.000      -0.118      -0.068\n",
      "==============================================================================\n",
      "Omnibus:                     4500.352   Durbin-Watson:                   1.935\n",
      "Prob(Omnibus):                  0.000   Jarque-Bera (JB):          5598648.604\n",
      "Skew:                           8.858   Prob(JB):                         0.00\n",
      "Kurtosis:                     215.286   Cond. No.                         10.4\n",
      "==============================================================================\n",
      "\n",
      "Notes:\n",
      "[1] Standard Errors assume that the covariance matrix of the errors is correctly specified.\n"
     ]
    }
   ]
  },
  {
   "cell_type": "markdown",
   "source": [
    "This is a linear regression model with the dependent variable RET (return) and ten independent variables, which are dummy variables for industry sectors (excluding the reference sector with the coefficient closest to zero). The model has an R-squared value of 0.116, which means that 11.6% of the variation in the dependent variable can be explained by the independent variables.\n",
    "\n",
    "Here, a one-unit increase in sector_10.0 (Energy Sector) is associated with a 0.1890 decrease in RET (stock return), holding all other independent variables constant.\n",
    "\n",
    "The reference sector is sector_30.0, which is the Consumer Staples Sector, and its coefficient is not statistically significant with a p-value of 0.945, indicating that there is no significant difference in return between sector_30.0 and the reference sector.\n",
    "\n",
    "The coefficients of the other independent variables are all statistically significant with p-values less than 0.05."
   ],
   "metadata": {
    "id": "eHmJlELvH8J0",
    "pycharm": {
     "name": "#%% md\n"
    }
   }
  },
  {
   "cell_type": "markdown",
   "source": [
    "### 2020- Conclusion"
   ],
   "metadata": {
    "id": "-hKIoegxEzIv",
    "pycharm": {
     "name": "#%% md\n"
    }
   }
  },
  {
   "cell_type": "markdown",
   "source": [
    "**`As in the models before for the previous 3 stock market crashes, risk exposures explain the most variability in returns for the months leading up to the Covid Crash in 2020.`**"
   ],
   "metadata": {
    "id": "64JoGd9i-40J",
    "pycharm": {
     "name": "#%% md\n"
    }
   }
  },
  {
   "cell_type": "markdown",
   "source": [
    "# The end of Easy Money"
   ],
   "metadata": {
    "id": "18ASvLGPDM0D",
    "pycharm": {
     "name": "#%% md\n"
    }
   }
  },
  {
   "cell_type": "markdown",
   "source": [
    "The Easy Money stock market crash of 2022 occurred due to the Federal Reserve's decision to raise interest rates, leading to a significant drop in stock prices. The crash resulted in significant losses for investors and sparked concerns about the stability of the financial system."
   ],
   "metadata": {
    "id": "ECVv2Er6WM3Z",
    "pycharm": {
     "name": "#%% md\n"
    }
   }
  },
  {
   "cell_type": "markdown",
   "source": [
    "### Merging the three files together "
   ],
   "metadata": {
    "id": "9YNTq5jDCyjE",
    "pycharm": {
     "name": "#%% md\n"
    }
   }
  },
  {
   "cell_type": "code",
   "source": [
    "# Renaming tic to TICKER in the gsector file\n",
    "gsector_2022 = gsector_2022.rename(columns={'tic': 'TICKER'})"
   ],
   "metadata": {
    "id": "mkoErdjwC10p",
    "pycharm": {
     "name": "#%%\n"
    }
   },
   "execution_count": 130,
   "outputs": []
  },
  {
   "cell_type": "code",
   "source": [
    "# Merge the DataFrames based on the 'TICKER' column\n",
    "merged_df_2022 = pd.merge(gsector_2022, ratios_2022, on='TICKER')\n",
    "merged_df_2022 = pd.merge(merged_df_2022, ff_2022, on='TICKER')"
   ],
   "metadata": {
    "id": "LzPx2QhxC40a",
    "pycharm": {
     "name": "#%%\n"
    }
   },
   "execution_count": 131,
   "outputs": []
  },
  {
   "cell_type": "code",
   "source": [
    "merged_df_2022.info()"
   ],
   "metadata": {
    "colab": {
     "base_uri": "https://localhost:8080/"
    },
    "id": "Vwjm19m4C9kD",
    "outputId": "17b97aae-2adf-4b48-f696-270f937890d9",
    "pycharm": {
     "name": "#%%\n"
    }
   },
   "execution_count": 132,
   "outputs": [
    {
     "output_type": "stream",
     "name": "stdout",
     "text": [
      "<class 'pandas.core.frame.DataFrame'>\n",
      "Int64Index: 3026 entries, 0 to 3025\n",
      "Data columns (total 38 columns):\n",
      " #   Column                Non-Null Count  Dtype  \n",
      "---  ------                --------------  -----  \n",
      " 0   gvkey_x               3026 non-null   int64  \n",
      " 1   fyear_x               3026 non-null   int64  \n",
      " 2   TICKER                3026 non-null   object \n",
      " 3   gsector               3025 non-null   float64\n",
      " 4   gvkey_y               3026 non-null   int64  \n",
      " 5   datadate              3026 non-null   object \n",
      " 6   fyear_y               3026 non-null   int64  \n",
      " 7   indfmt                3026 non-null   object \n",
      " 8   consol                3026 non-null   object \n",
      " 9   popsrc                3026 non-null   object \n",
      " 10  datafmt               3026 non-null   object \n",
      " 11  curcd                 3026 non-null   object \n",
      " 12  act                   3026 non-null   float64\n",
      " 13  at                    3026 non-null   float64\n",
      " 14  che                   3026 non-null   float64\n",
      " 15  cogs                  3026 non-null   float64\n",
      " 16  dltt                  3026 non-null   float64\n",
      " 17  lct                   3026 non-null   float64\n",
      " 18  lt                    3026 non-null   float64\n",
      " 19  ni                    3026 non-null   float64\n",
      " 20  re                    3026 non-null   float64\n",
      " 21  sale                  3026 non-null   float64\n",
      " 22  costat                3026 non-null   object \n",
      " 23  RET                   3026 non-null   float64\n",
      " 24  Net Profit Margin     3026 non-null   float64\n",
      " 25  Gross Profit Margin   3026 non-null   float64\n",
      " 26  Total Debt/Equity     3026 non-null   float64\n",
      " 27  Return on Equity      3026 non-null   float64\n",
      " 28  Liquidity             3026 non-null   float64\n",
      " 29  ROA                   3026 non-null   float64\n",
      " 30  Debt/Total Assets     3026 non-null   float64\n",
      " 31  Asset Turnover Ratio  3026 non-null   float64\n",
      " 32  at_log                3026 non-null   float64\n",
      " 33  Unnamed: 0            3026 non-null   int64  \n",
      " 34  const                 3026 non-null   float64\n",
      " 35  mktrf                 3026 non-null   float64\n",
      " 36  smb                   3026 non-null   float64\n",
      " 37  hml                   3026 non-null   float64\n",
      "dtypes: float64(25), int64(5), object(8)\n",
      "memory usage: 922.0+ KB\n"
     ]
    }
   ]
  },
  {
   "cell_type": "markdown",
   "source": [
    "## Run OLS regression with the following three main categories \n",
    "\n",
    "\n",
    "1.   **Risk Exposures:** This included systematic risk (market risk), SML (Small Minus Big), which is the size risk, and HML (High minus Low), which is the Value vs Growth risk. \n",
    "\n",
    "2.   **Financial Ratios:** This includes various financial ratios, including but not limited to Liquidity, Leverage, Asset Turnover Ratio, Net and Gross Profit Margin, ROE and ROA. \n",
    "\n",
    "3.   **Industry Indicators:** This indicates which industries had the highest amount of affect on stock returns. \n",
    "\n"
   ],
   "metadata": {
    "id": "l1WcR3JAj56D",
    "pycharm": {
     "name": "#%% md\n"
    }
   }
  },
  {
   "cell_type": "markdown",
   "source": [
    "#### 2022- Regression 1 "
   ],
   "metadata": {
    "id": "jx2nz4ihiIeq",
    "pycharm": {
     "name": "#%% md\n"
    }
   }
  },
  {
   "cell_type": "markdown",
   "source": [
    "Regression with financial ratios, industry indicators and risk exposures"
   ],
   "metadata": {
    "id": "XLt4vLBGJ-vK",
    "pycharm": {
     "name": "#%% md\n"
    }
   }
  },
  {
   "cell_type": "code",
   "source": [
    "# General regression code:\n",
    "X1 = merged_df_2022[['Gross Profit Margin', 'Liquidity', 'at_log']]\n",
    "X2 = pd.get_dummies(merged_df_2022['gsector'], prefix='sector')\n",
    "X3 = merged_df_2022[['mktrf', 'smb', 'hml']]\n",
    "\n",
    "X = pd.concat([X1, X2, X3], axis=1)\n",
    "\n",
    "y = merged_df_2022['RET']\n",
    "\n",
    "# Use statsmodels\n",
    "X = sm.add_constant(X) # adding a constant\n",
    "model = sm.OLS(y, X).fit()\n",
    "\n",
    "# list regression output\n",
    "print(model.summary())"
   ],
   "metadata": {
    "colab": {
     "base_uri": "https://localhost:8080/"
    },
    "id": "jZrcnnYuTA_f",
    "outputId": "d0040c5e-65bf-4262-db40-a86542021241",
    "pycharm": {
     "name": "#%%\n"
    }
   },
   "execution_count": 133,
   "outputs": [
    {
     "output_type": "stream",
     "name": "stdout",
     "text": [
      "                            OLS Regression Results                            \n",
      "==============================================================================\n",
      "Dep. Variable:                    RET   R-squared:                       0.231\n",
      "Model:                            OLS   Adj. R-squared:                  0.227\n",
      "Method:                 Least Squares   F-statistic:                     53.20\n",
      "Date:                Sat, 06 May 2023   Prob (F-statistic):          1.67e-157\n",
      "Time:                        12:27:43   Log-Likelihood:                 3866.7\n",
      "No. Observations:                3026   AIC:                            -7697.\n",
      "Df Residuals:                    3008   BIC:                            -7589.\n",
      "Df Model:                          17                                         \n",
      "Covariance Type:            nonrobust                                         \n",
      "=======================================================================================\n",
      "                          coef    std err          t      P>|t|      [0.025      0.975]\n",
      "---------------------------------------------------------------------------------------\n",
      "const                   0.0311      0.068      0.458      0.647      -0.102       0.164\n",
      "Gross Profit Margin    -0.0004      0.000     -1.937      0.053      -0.001    4.36e-06\n",
      "Liquidity               0.0013      0.000      3.065      0.002       0.000       0.002\n",
      "at_log                  0.0017      0.001      2.509      0.012       0.000       0.003\n",
      "sector_10.0            -0.0252      0.068     -0.371      0.710      -0.158       0.108\n",
      "sector_15.0            -0.0752      0.068     -1.109      0.267      -0.208       0.058\n",
      "sector_20.0            -0.0455      0.068     -0.671      0.502      -0.178       0.087\n",
      "sector_25.0            -0.0468      0.068     -0.690      0.490      -0.180       0.086\n",
      "sector_30.0            -0.0391      0.068     -0.576      0.565      -0.172       0.094\n",
      "sector_35.0            -0.0534      0.068     -0.788      0.431      -0.186       0.079\n",
      "sector_40.0            -0.0575      0.068     -0.849      0.396      -0.190       0.075\n",
      "sector_45.0            -0.0494      0.068     -0.729      0.466      -0.182       0.084\n",
      "sector_50.0            -0.0655      0.068     -0.964      0.335      -0.199       0.068\n",
      "sector_55.0            -0.0404      0.068     -0.594      0.553      -0.174       0.093\n",
      "sector_60.0            -0.0705      0.068     -1.038      0.299      -0.204       0.063\n",
      "mktrf                  -0.0508      0.002    -21.899      0.000      -0.055      -0.046\n",
      "smb                    -0.0139      0.001    -14.183      0.000      -0.016      -0.012\n",
      "hml                     0.0299      0.002     13.701      0.000       0.026       0.034\n",
      "==============================================================================\n",
      "Omnibus:                      505.374   Durbin-Watson:                   1.984\n",
      "Prob(Omnibus):                  0.000   Jarque-Bera (JB):             7643.782\n",
      "Skew:                           0.299   Prob(JB):                         0.00\n",
      "Kurtosis:                      10.763   Cond. No.                     1.62e+03\n",
      "==============================================================================\n",
      "\n",
      "Notes:\n",
      "[1] Standard Errors assume that the covariance matrix of the errors is correctly specified.\n",
      "[2] The condition number is large, 1.62e+03. This might indicate that there are\n",
      "strong multicollinearity or other numerical problems.\n"
     ]
    }
   ]
  },
  {
   "cell_type": "markdown",
   "source": [
    "The OLS regression model shows that the R-squared value is 0.231, indicating that the model explains only 23.1% of the variation in the dependent variable, with an adjusted R-Squared of 22.7%.\n",
    "\n",
    "The regression coefficients for Gross Profit Margin, sector_10.0, sector_15.0, sector_20.0, sector_25.0, sector_30.0, sector_35.0, sector_40.0, sector_45.0, sector_50.0, sector_55.0, and sector_60.0 are not statistically significant at the 5% level. The regression coefficients for Liquidity, at_log, mktrf, smb, and hml are statistically significant at the 5% level. \n",
    "\n",
    "The model's goodness of fit can be improved, as indicated by the Adjusted R-squared value of 0.227. The coefficients of smb and hml are negative and positive, respectively, suggesting that a higher SMB (size factor) and HML (value factor) are associated with lower and higher stock market returns, respectively. \n",
    "\n",
    "The model has some potential issues with multicollinearity, as indicated by the large condition number."
   ],
   "metadata": {
    "id": "MuzB-zZHJKz1",
    "pycharm": {
     "name": "#%% md\n"
    }
   }
  },
  {
   "cell_type": "markdown",
   "source": [
    "#### 2022- Regression 2"
   ],
   "metadata": {
    "id": "pUlTQZvwienV",
    "pycharm": {
     "name": "#%% md\n"
    }
   }
  },
  {
   "cell_type": "markdown",
   "source": [
    "Regression with only financial ratios and industry indicators."
   ],
   "metadata": {
    "id": "BUOR_9zGKF4c",
    "pycharm": {
     "name": "#%% md\n"
    }
   }
  },
  {
   "cell_type": "code",
   "source": [
    "# General regression code:\n",
    "X1 = merged_df_2022[['Gross Profit Margin', 'Liquidity', 'at_log']]\n",
    "X2 = pd.get_dummies(merged_df_2022['gsector'], prefix='sector')\n",
    "\n",
    "X = pd.concat([X1, X2], axis=1)\n",
    "\n",
    "y = merged_df_2022['RET']\n",
    "\n",
    "# Use statsmodels\n",
    "X = sm.add_constant(X) # adding a constant\n",
    "model = sm.OLS(y, X).fit()\n",
    "\n",
    "# list regression output\n",
    "print(model.summary())"
   ],
   "metadata": {
    "colab": {
     "base_uri": "https://localhost:8080/"
    },
    "id": "f52kJb8Jifq4",
    "outputId": "5831ea02-e18f-4769-8282-c5ae101abd3f",
    "pycharm": {
     "name": "#%%\n"
    }
   },
   "execution_count": 134,
   "outputs": [
    {
     "output_type": "stream",
     "name": "stdout",
     "text": [
      "                            OLS Regression Results                            \n",
      "==============================================================================\n",
      "Dep. Variable:                    RET   R-squared:                       0.058\n",
      "Model:                            OLS   Adj. R-squared:                  0.054\n",
      "Method:                 Least Squares   F-statistic:                     13.34\n",
      "Date:                Sat, 06 May 2023   Prob (F-statistic):           3.06e-31\n",
      "Time:                        12:27:43   Log-Likelihood:                 3560.0\n",
      "No. Observations:                3026   AIC:                            -7090.\n",
      "Df Residuals:                    3011   BIC:                            -7000.\n",
      "Df Model:                          14                                         \n",
      "Covariance Type:            nonrobust                                         \n",
      "=======================================================================================\n",
      "                          coef    std err          t      P>|t|      [0.025      0.975]\n",
      "---------------------------------------------------------------------------------------\n",
      "const                   0.0067      0.075      0.090      0.929      -0.140       0.154\n",
      "Gross Profit Margin     0.0003      0.000      1.439      0.150      -0.000       0.001\n",
      "Liquidity               0.0005      0.000      1.071      0.284      -0.000       0.001\n",
      "at_log                  0.0028      0.001      3.910      0.000       0.001       0.004\n",
      "sector_10.0            -0.0536      0.075     -0.715      0.475      -0.201       0.093\n",
      "sector_15.0            -0.1057      0.075     -1.409      0.159      -0.253       0.041\n",
      "sector_20.0            -0.0813      0.075     -1.086      0.278      -0.228       0.065\n",
      "sector_25.0            -0.0940      0.075     -1.255      0.210      -0.241       0.053\n",
      "sector_30.0            -0.0561      0.075     -0.747      0.455      -0.203       0.091\n",
      "sector_35.0            -0.1003      0.075     -1.340      0.180      -0.247       0.047\n",
      "sector_40.0            -0.0741      0.075     -0.990      0.322      -0.221       0.073\n",
      "sector_45.0            -0.0995      0.075     -1.328      0.184      -0.246       0.047\n",
      "sector_50.0            -0.1013      0.075     -1.349      0.177      -0.249       0.046\n",
      "sector_55.0            -0.0490      0.075     -0.651      0.515      -0.197       0.099\n",
      "sector_60.0            -0.0985      0.075     -1.313      0.189      -0.246       0.049\n",
      "==============================================================================\n",
      "Omnibus:                      427.615   Durbin-Watson:                   1.979\n",
      "Prob(Omnibus):                  0.000   Jarque-Bera (JB):             5998.136\n",
      "Skew:                           0.007   Prob(JB):                         0.00\n",
      "Kurtosis:                       9.897   Cond. No.                     1.61e+03\n",
      "==============================================================================\n",
      "\n",
      "Notes:\n",
      "[1] Standard Errors assume that the covariance matrix of the errors is correctly specified.\n",
      "[2] The condition number is large, 1.61e+03. This might indicate that there are\n",
      "strong multicollinearity or other numerical problems.\n"
     ]
    }
   ]
  },
  {
   "cell_type": "markdown",
   "source": [
    "The R-squared value of the model is 0.058, indicating that only 5.8% of the variation in the dependent variable is explained by the independent variables. The Adjusted R-squared value is slightly lower at 0.054, suggesting that the model's goodness of fit could be improved.\n",
    "\n",
    "The coefficients of the independent variables are mostly negative, indicating that all sectors and risk exposures, except for sml, lead to lower stock market returns. However, the p-values of most of these variables are greater than 0.05, suggesting that they are not statistically significant predictors of stock market returns.\n",
    "\n",
    "The p-value of at_log is less than 0.05, indicating that it is a statistically significant predictor of stock market returns. This suggests that as a company's assets grow, its stock market returns also increase.\n",
    "\n",
    "The p-values of the sector indicators are mixed, with some being statistically significant predictors of stock market returns (e.g., sector_15.0, which is Materials) and others not (e.g., sector_10.0, which is Energy).\n",
    "\n",
    "The model's condition number is large, indicating the possible presence of strong multicollinearity or other numerical problems."
   ],
   "metadata": {
    "id": "TJ-9TBn-KP0S",
    "pycharm": {
     "name": "#%% md\n"
    }
   }
  },
  {
   "cell_type": "markdown",
   "source": [
    "#### 2022- Regression 3"
   ],
   "metadata": {
    "id": "kPRRVhZeigV5",
    "pycharm": {
     "name": "#%% md\n"
    }
   }
  },
  {
   "cell_type": "markdown",
   "source": [
    "Regression with financial ratios and risk exposures"
   ],
   "metadata": {
    "id": "_QvEqe_FKpuY",
    "pycharm": {
     "name": "#%% md\n"
    }
   }
  },
  {
   "cell_type": "code",
   "source": [
    "# General regression code:\n",
    "X1 = merged_df_2022[['Gross Profit Margin', 'Liquidity', 'at_log']]\n",
    "X2 = merged_df_2022[['mktrf', 'smb', 'hml']]\n",
    "\n",
    "X = pd.concat([X1, X2], axis=1)\n",
    "\n",
    "y = merged_df_2022['RET']\n",
    "\n",
    "# Use statsmodels\n",
    "X = sm.add_constant(X) # adding a constant\n",
    "model = sm.OLS(y, X).fit()\n",
    "\n",
    "# list regression output\n",
    "print(model.summary())"
   ],
   "metadata": {
    "colab": {
     "base_uri": "https://localhost:8080/"
    },
    "id": "GSmYivyfihrb",
    "outputId": "43c3aaba-1312-4d30-8807-329a805bc7bd",
    "pycharm": {
     "name": "#%%\n"
    }
   },
   "execution_count": 135,
   "outputs": [
    {
     "output_type": "stream",
     "name": "stdout",
     "text": [
      "                            OLS Regression Results                            \n",
      "==============================================================================\n",
      "Dep. Variable:                    RET   R-squared:                       0.211\n",
      "Model:                            OLS   Adj. R-squared:                  0.209\n",
      "Method:                 Least Squares   F-statistic:                     134.2\n",
      "Date:                Sat, 06 May 2023   Prob (F-statistic):          4.77e-151\n",
      "Time:                        12:27:43   Log-Likelihood:                 3826.7\n",
      "No. Observations:                3026   AIC:                            -7639.\n",
      "Df Residuals:                    3019   BIC:                            -7597.\n",
      "Df Model:                           6                                         \n",
      "Covariance Type:            nonrobust                                         \n",
      "=======================================================================================\n",
      "                          coef    std err          t      P>|t|      [0.025      0.975]\n",
      "---------------------------------------------------------------------------------------\n",
      "const                  -0.0188      0.006     -3.069      0.002      -0.031      -0.007\n",
      "Gross Profit Margin    -0.0004      0.000     -1.943      0.052      -0.001     3.2e-06\n",
      "Liquidity               0.0013      0.000      3.062      0.002       0.000       0.002\n",
      "at_log                  0.0011      0.001      1.722      0.085      -0.000       0.002\n",
      "mktrf                  -0.0495      0.002    -22.249      0.000      -0.054      -0.045\n",
      "smb                    -0.0135      0.001    -13.889      0.000      -0.015      -0.012\n",
      "hml                     0.0322      0.002     16.911      0.000       0.028       0.036\n",
      "==============================================================================\n",
      "Omnibus:                      488.542   Durbin-Watson:                   1.971\n",
      "Prob(Omnibus):                  0.000   Jarque-Bera (JB):             6765.956\n",
      "Skew:                           0.303   Prob(JB):                         0.00\n",
      "Kurtosis:                      10.300   Cond. No.                         42.7\n",
      "==============================================================================\n",
      "\n",
      "Notes:\n",
      "[1] Standard Errors assume that the covariance matrix of the errors is correctly specified.\n"
     ]
    }
   ]
  },
  {
   "cell_type": "markdown",
   "source": [
    "The results indicate that the model has an R-squared value of 0.211, which implies that approximately 21.1% of the variance in the dependent variable can be explained by the independent variables. The F-statistic of 134.2 is statistically significant with a p-value of 4.77e-151. The results also indicate that some of the independent variables are statistically significant, while others are not.\n",
    "\n",
    "Among the statistically significant variables, mktrf, smb, and hml are significant at a 95% level of significance. This implies that these variables have a strong impact on the dependent variable, RET. Specifically, mktrf has a negative coefficient of -0.0495, which means that an increase in the market risk premium will lead to a decrease in the firm's return on equity. \n",
    "\n",
    "Similarly, smb has a negative coefficient of -0.0135, while hml has a positive coefficient of 0.0322, indicating that an increase in the size and value factors will lead to a decrease and increase, respectively, in the firm's returns.\n",
    "\n"
   ],
   "metadata": {
    "id": "9JJPQogRLH5J",
    "pycharm": {
     "name": "#%% md\n"
    }
   }
  },
  {
   "cell_type": "markdown",
   "source": [
    "#### 2022- Regression 4"
   ],
   "metadata": {
    "id": "O0a-57ngii1O",
    "pycharm": {
     "name": "#%% md\n"
    }
   }
  },
  {
   "cell_type": "markdown",
   "source": [
    "Regression with only the risk exposures"
   ],
   "metadata": {
    "id": "bjOPK5agSseV",
    "pycharm": {
     "name": "#%% md\n"
    }
   }
  },
  {
   "cell_type": "code",
   "source": [
    "#General regression code:\n",
    "X = merged_df_2022[['mktrf', 'smb', 'hml']]\n",
    "y = merged_df_2022['RET']\n",
    "# Use statsmodels\n",
    "X = sm.add_constant(X) # adding a constant\n",
    "model = sm.OLS(y, X).fit()\n",
    "\n",
    "#list regression output\n",
    "print(model.summary())"
   ],
   "metadata": {
    "colab": {
     "base_uri": "https://localhost:8080/"
    },
    "id": "h2lZ_4CxikHK",
    "outputId": "e65b2dc4-6570-45cd-b9bf-abbd48d2be36",
    "pycharm": {
     "name": "#%%\n"
    }
   },
   "execution_count": 136,
   "outputs": [
    {
     "output_type": "stream",
     "name": "stdout",
     "text": [
      "                            OLS Regression Results                            \n",
      "==============================================================================\n",
      "Dep. Variable:                    RET   R-squared:                       0.207\n",
      "Model:                            OLS   Adj. R-squared:                  0.206\n",
      "Method:                 Least Squares   F-statistic:                     262.3\n",
      "Date:                Sat, 06 May 2023   Prob (F-statistic):          2.75e-151\n",
      "Time:                        12:27:44   Log-Likelihood:                 3819.1\n",
      "No. Observations:                3026   AIC:                            -7630.\n",
      "Df Residuals:                    3022   BIC:                            -7606.\n",
      "Df Model:                           3                                         \n",
      "Covariance Type:            nonrobust                                         \n",
      "==============================================================================\n",
      "                 coef    std err          t      P>|t|      [0.025      0.975]\n",
      "------------------------------------------------------------------------------\n",
      "const         -0.0070      0.003     -2.625      0.009      -0.012      -0.002\n",
      "mktrf         -0.0491      0.002    -22.090      0.000      -0.053      -0.045\n",
      "smb           -0.0130      0.001    -14.784      0.000      -0.015      -0.011\n",
      "hml            0.0308      0.002     17.179      0.000       0.027       0.034\n",
      "==============================================================================\n",
      "Omnibus:                      488.178   Durbin-Watson:                   1.981\n",
      "Prob(Omnibus):                  0.000   Jarque-Bera (JB):             6859.814\n",
      "Skew:                           0.294   Prob(JB):                         0.00\n",
      "Kurtosis:                      10.353   Cond. No.                         5.21\n",
      "==============================================================================\n",
      "\n",
      "Notes:\n",
      "[1] Standard Errors assume that the covariance matrix of the errors is correctly specified.\n"
     ]
    }
   ]
  },
  {
   "cell_type": "markdown",
   "source": [
    "The R-squared value of the model is 0.207, which indicates that the independent variables explain approximately 21% of the variation in the dependent variable. The adjusted R-squared value is 0.206, which accounts for the degrees of freedom in the model.\n",
    "\n",
    "The coefficients of the independent variables show the effect of each variable on the dependent variable, holding other variables constant. The constant is -0.0070, indicating that the expected value of the dependent variable when all independent variables are equal to zero is -0.0070.\n",
    "\n",
    "The coefficients of \"mktrf\", \"smb\", and \"hml\" are -0.0491, -0.0130, and 0.0308, respectively. These coefficients suggest that \"mktrf\" and \"smb\" have a negative effect on the dependent variable, while \"hml\" has a positive effect. All three coefficients are statistically significant with p-values less than 0.05."
   ],
   "metadata": {
    "id": "1m1oEPuMLkWm",
    "pycharm": {
     "name": "#%% md\n"
    }
   }
  },
  {
   "cell_type": "markdown",
   "source": [
    "#### 2022- Regression 5"
   ],
   "metadata": {
    "id": "AgEgazVZil64",
    "pycharm": {
     "name": "#%% md\n"
    }
   }
  },
  {
   "cell_type": "markdown",
   "source": [
    "Regression with only the industry indicators "
   ],
   "metadata": {
    "id": "frjqN9DaQ8O5",
    "pycharm": {
     "name": "#%% md\n"
    }
   }
  },
  {
   "cell_type": "code",
   "source": [
    "X_all_sectors = pd.get_dummies(merged_df_2022['gsector'], prefix='sector')\n",
    "y = merged_df_2022['RET']\n",
    "# Perform the regression using statsmodels\n",
    "model_all_sectors = sm.OLS(y, X_all_sectors).fit()\n",
    "\n",
    "# Identify the industry with the coefficient value closest to zero\n",
    "reference_sector = model_all_sectors.params.abs().idxmin()\n",
    "\n",
    "print(reference_sector)"
   ],
   "metadata": {
    "colab": {
     "base_uri": "https://localhost:8080/"
    },
    "id": "OPkqHlcOinOr",
    "outputId": "d19e4183-c9dd-4162-850b-435d859da9c8",
    "pycharm": {
     "name": "#%%\n"
    }
   },
   "execution_count": 146,
   "outputs": [
    {
     "output_type": "stream",
     "name": "stdout",
     "text": [
      "sector_55.0\n"
     ]
    }
   ]
  },
  {
   "cell_type": "code",
   "source": [
    "# Create dummy variables for the industry sectors\n",
    "X_all_sectors = pd.get_dummies(merged_df_2022['gsector'], prefix='sector')\n",
    "y = merged_df_2022['RET']\n",
    "\n",
    "# Exclude the reference sector's dummy variable from the independent variables\n",
    "X = X_all_sectors.drop(columns=[reference_sector])\n",
    "\n",
    "# Add a constant to the independent variables\n",
    "X = sm.add_constant(X)\n",
    "\n",
    "# Perform the regression using statsmodels without the reference sector's dummy variable\n",
    "model_5 = sm.OLS(y, X).fit()\n",
    "\n",
    "# Print the regression output\n",
    "print(model_5.summary())"
   ],
   "metadata": {
    "colab": {
     "base_uri": "https://localhost:8080/"
    },
    "id": "8up9h3bBG3YQ",
    "outputId": "4c2f65c2-2e97-40db-ab7b-7dd0a3fc54f8",
    "pycharm": {
     "name": "#%%\n"
    }
   },
   "execution_count": 147,
   "outputs": [
    {
     "output_type": "stream",
     "name": "stdout",
     "text": [
      "                            OLS Regression Results                            \n",
      "==============================================================================\n",
      "Dep. Variable:                    RET   R-squared:                       0.053\n",
      "Model:                            OLS   Adj. R-squared:                  0.049\n",
      "Method:                 Least Squares   F-statistic:                     16.71\n",
      "Date:                Sat, 06 May 2023   Prob (F-statistic):           8.51e-30\n",
      "Time:                        12:49:18   Log-Likelihood:                 3550.5\n",
      "No. Observations:                3026   AIC:                            -7079.\n",
      "Df Residuals:                    3015   BIC:                            -7013.\n",
      "Df Model:                          10                                         \n",
      "Covariance Type:            nonrobust                                         \n",
      "===============================================================================\n",
      "                  coef    std err          t      P>|t|      [0.025      0.975]\n",
      "-------------------------------------------------------------------------------\n",
      "const          -0.0157      0.008     -1.908      0.057      -0.032       0.000\n",
      "sector_10.0    -0.0095      0.010     -0.958      0.338      -0.029       0.010\n",
      "sector_15.0    -0.0599      0.010     -5.957      0.000      -0.080      -0.040\n",
      "sector_20.0    -0.0371      0.009     -4.128      0.000      -0.055      -0.019\n",
      "sector_25.0    -0.0495      0.009     -5.392      0.000      -0.068      -0.032\n",
      "sector_30.0    -0.0111      0.011     -1.058      0.290      -0.032       0.010\n",
      "sector_35.0    -0.0589      0.009     -6.582      0.000      -0.076      -0.041\n",
      "sector_40.0    -0.0261      0.009     -2.960      0.003      -0.043      -0.009\n",
      "sector_45.0    -0.0563      0.009     -6.192      0.000      -0.074      -0.038\n",
      "sector_50.0    -0.0557      0.011     -5.267      0.000      -0.077      -0.035\n",
      "sector_60.0    -0.0528      0.010     -5.221      0.000      -0.073      -0.033\n",
      "==============================================================================\n",
      "Omnibus:                      422.698   Durbin-Watson:                   1.972\n",
      "Prob(Omnibus):                  0.000   Jarque-Bera (JB):             5685.662\n",
      "Skew:                          -0.075   Prob(JB):                         0.00\n",
      "Kurtosis:                       9.714   Cond. No.                         21.5\n",
      "==============================================================================\n",
      "\n",
      "Notes:\n",
      "[1] Standard Errors assume that the covariance matrix of the errors is correctly specified.\n"
     ]
    }
   ]
  },
  {
   "cell_type": "markdown",
   "source": [
    "This is a regression analysis for the year 2022 using the Ordinary Least Squares (OLS) method. The dependent variable is the 'RET' column, and the independent variables are the dummy variables for the 'gsector' column of the 'merged_df_2022' dataset.\n",
    "\n",
    "The regression output shows that the R-squared value is 0.053, which means that the model explains only 5.3% of the variance in the dependent variable.\n",
    "\n",
    "The coefficient values for the different industry sectors indicate the impact of each sector on the dependent variable. The 'sector_15.0' industry has the most significant impact with a coefficient value of -0.0599, which means that a one-unit increase in this sector's dummy variable decreases the dependent variable by 0.0599 units, holding all other variables constant. The reference sector, 'sector_10.0', has a coefficient value of -0.0095, which is not statistically significant.\n",
    "\n",
    "The model's overall fit can be improved as the adjusted R-squared value is only 0.049.\n",
    "\n",
    "Overall, this regression analysis suggests that the industry sector has a statistically significant impact on the dependent variable, but the model's fit is not strong enough to make accurate predictions."
   ],
   "metadata": {
    "id": "mS4uwpgWMApP",
    "pycharm": {
     "name": "#%% md\n"
    }
   }
  },
  {
   "cell_type": "markdown",
   "source": [
    "### 2022- Conclusion"
   ],
   "metadata": {
    "id": "SZKL56LCE6rS",
    "pycharm": {
     "name": "#%% md\n"
    }
   }
  },
  {
   "cell_type": "markdown",
   "source": [
    "**`For the End of Easy Money Stock Market Crash, the most variability in the stock returns are explained by the risk exposures`**"
   ],
   "metadata": {
    "id": "eR6K3VpaE_TI",
    "pycharm": {
     "name": "#%% md\n"
    }
   }
  },
  {
   "cell_type": "markdown",
   "source": [
    "# Links and References "
   ],
   "metadata": {
    "id": "wxOttJe9VT0_",
    "pycharm": {
     "name": "#%% md\n"
    }
   }
  },
  {
   "cell_type": "markdown",
   "source": [
    "1. [https://en.wikipedia.org/wiki/\n",
    "Global_Industry_Classification_Standard](https://)\n",
    "2. https://www.investopedia.com/timeline-of-stock-market-crashes-5217820\n",
    "3. https://en.wikipedia.org/wiki/List_of_stock_market_crashes_and_bear_markets\n",
    "4. https://www.bankrate.com/investing/biggest-stock-market-crashes-in-us-history/"
   ],
   "metadata": {
    "id": "TtCwQRMFVXJR",
    "pycharm": {
     "name": "#%% md\n"
    }
   }
  },
  {
   "cell_type": "code",
   "source": [],
   "metadata": {
    "id": "tdcX1TxNE86i",
    "pycharm": {
     "name": "#%%\n"
    }
   },
   "execution_count": null,
   "outputs": []
  }
 ]
}